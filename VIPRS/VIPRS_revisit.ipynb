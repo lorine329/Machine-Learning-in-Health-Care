{
  "nbformat": 4,
  "nbformat_minor": 0,
  "metadata": {
    "colab": {
      "provenance": [],
      "collapsed_sections": [
        "ObmjXDskM2Wy",
        "A8UpWPkTMu9V",
        "L8Ml2ORQvrpe",
        "w5Fs17XDwGNN",
        "8Dy7OtK8oUiP",
        "UdUdRKuDRWVG",
        "wcWeMPKwRalR",
        "Do6qI1LUQRey"
      ]
    },
    "kernelspec": {
      "name": "python3",
      "display_name": "Python 3"
    },
    "language_info": {
      "name": "python"
    }
  },
  "cells": [
    {
      "cell_type": "markdown",
      "source": [
        "# Import packages"
      ],
      "metadata": {
        "id": "ObmjXDskM2Wy"
      }
    },
    {
      "cell_type": "code",
      "source": [
        "pip install magenpy"
      ],
      "metadata": {
        "id": "Pg1tsY6VTlqi",
        "colab": {
          "base_uri": "https://localhost:8080/"
        },
        "outputId": "b3816c54-511f-489e-f71b-da3194230acc"
      },
      "execution_count": null,
      "outputs": [
        {
          "output_type": "stream",
          "name": "stdout",
          "text": [
            "Looking in indexes: https://pypi.org/simple, https://us-python.pkg.dev/colab-wheels/public/simple/\n",
            "Collecting magenpy\n",
            "  Downloading magenpy-0.0.12.tar.gz (1.3 MB)\n",
            "\u001b[2K     \u001b[90m━━━━━━━━━━━━━━━━━━━━━━━━━━━━━━━━━━━━━━━━\u001b[0m \u001b[32m1.3/1.3 MB\u001b[0m \u001b[31m3.6 MB/s\u001b[0m eta \u001b[36m0:00:00\u001b[0m\n",
            "\u001b[?25h  Installing build dependencies ... \u001b[?25l\u001b[?25hdone\n",
            "  Getting requirements to build wheel ... \u001b[?25l\u001b[?25hdone\n",
            "  Preparing metadata (pyproject.toml) ... \u001b[?25l\u001b[?25hdone\n",
            "Requirement already satisfied: dask in /usr/local/lib/python3.10/dist-packages (from magenpy) (2022.12.1)\n",
            "Requirement already satisfied: scipy in /usr/local/lib/python3.10/dist-packages (from magenpy) (1.10.1)\n",
            "Requirement already satisfied: numpy in /usr/local/lib/python3.10/dist-packages (from magenpy) (1.22.4)\n",
            "Requirement already satisfied: pandas in /usr/local/lib/python3.10/dist-packages (from magenpy) (1.5.3)\n",
            "Collecting pandas-plink==2.2.4 (from magenpy)\n",
            "  Downloading pandas_plink-2.2.4.tar.gz (76 kB)\n",
            "\u001b[2K     \u001b[90m━━━━━━━━━━━━━━━━━━━━━━━━━━━━━━━━━━━━━━━━\u001b[0m \u001b[32m76.7/76.7 kB\u001b[0m \u001b[31m8.2 MB/s\u001b[0m eta \u001b[36m0:00:00\u001b[0m\n",
            "\u001b[?25h  Preparing metadata (setup.py) ... \u001b[?25l\u001b[?25hdone\n",
            "Requirement already satisfied: psutil in /usr/local/lib/python3.10/dist-packages (from magenpy) (5.9.5)\n",
            "Requirement already satisfied: tqdm in /usr/local/lib/python3.10/dist-packages (from magenpy) (4.65.0)\n",
            "Collecting zarr (from magenpy)\n",
            "  Downloading zarr-2.14.2-py3-none-any.whl (203 kB)\n",
            "\u001b[2K     \u001b[90m━━━━━━━━━━━━━━━━━━━━━━━━━━━━━━━━━━━━━━\u001b[0m \u001b[32m203.3/203.3 kB\u001b[0m \u001b[31m15.6 MB/s\u001b[0m eta \u001b[36m0:00:00\u001b[0m\n",
            "\u001b[?25hRequirement already satisfied: requests in /usr/local/lib/python3.10/dist-packages (from magenpy) (2.27.1)\n",
            "Collecting rechunker (from magenpy)\n",
            "  Downloading rechunker-0.5.1-py3-none-any.whl (21 kB)\n",
            "Collecting Deprecated>=1.2.6 (from pandas-plink==2.2.4->magenpy)\n",
            "  Downloading Deprecated-1.2.13-py2.py3-none-any.whl (9.6 kB)\n",
            "Requirement already satisfied: cffi>=1.14.3 in /usr/local/lib/python3.10/dist-packages (from pandas-plink==2.2.4->magenpy) (1.15.1)\n",
            "Requirement already satisfied: pytest>=5.2.2 in /usr/local/lib/python3.10/dist-packages (from pandas-plink==2.2.4->magenpy) (7.2.2)\n",
            "Requirement already satisfied: xarray>=0.16.1 in /usr/local/lib/python3.10/dist-packages (from pandas-plink==2.2.4->magenpy) (2022.12.0)\n",
            "Collecting zstandard>=0.13.0 (from pandas-plink==2.2.4->magenpy)\n",
            "  Downloading zstandard-0.21.0-cp310-cp310-manylinux_2_17_x86_64.manylinux2014_x86_64.whl (2.7 MB)\n",
            "\u001b[2K     \u001b[90m━━━━━━━━━━━━━━━━━━━━━━━━━━━━━━━━━━━━━━━━\u001b[0m \u001b[32m2.7/2.7 MB\u001b[0m \u001b[31m37.7 MB/s\u001b[0m eta \u001b[36m0:00:00\u001b[0m\n",
            "\u001b[?25hRequirement already satisfied: python-dateutil>=2.8.1 in /usr/local/lib/python3.10/dist-packages (from pandas->magenpy) (2.8.2)\n",
            "Requirement already satisfied: pytz>=2020.1 in /usr/local/lib/python3.10/dist-packages (from pandas->magenpy) (2022.7.1)\n",
            "Requirement already satisfied: click>=7.0 in /usr/local/lib/python3.10/dist-packages (from dask->magenpy) (8.1.3)\n",
            "Requirement already satisfied: cloudpickle>=1.1.1 in /usr/local/lib/python3.10/dist-packages (from dask->magenpy) (2.2.1)\n",
            "Requirement already satisfied: fsspec>=0.6.0 in /usr/local/lib/python3.10/dist-packages (from dask->magenpy) (2023.4.0)\n",
            "Requirement already satisfied: packaging>=20.0 in /usr/local/lib/python3.10/dist-packages (from dask->magenpy) (23.1)\n",
            "Requirement already satisfied: partd>=0.3.10 in /usr/local/lib/python3.10/dist-packages (from dask->magenpy) (1.4.0)\n",
            "Requirement already satisfied: pyyaml>=5.3.1 in /usr/local/lib/python3.10/dist-packages (from dask->magenpy) (6.0)\n",
            "Requirement already satisfied: toolz>=0.8.2 in /usr/local/lib/python3.10/dist-packages (from dask->magenpy) (0.12.0)\n",
            "Collecting mypy-extensions (from rechunker->magenpy)\n",
            "  Downloading mypy_extensions-1.0.0-py3-none-any.whl (4.7 kB)\n",
            "Collecting asciitree (from zarr->magenpy)\n",
            "  Downloading asciitree-0.3.3.tar.gz (4.0 kB)\n",
            "  Preparing metadata (setup.py) ... \u001b[?25l\u001b[?25hdone\n",
            "Collecting fasteners (from zarr->magenpy)\n",
            "  Downloading fasteners-0.18-py3-none-any.whl (18 kB)\n",
            "Collecting numcodecs>=0.10.0 (from zarr->magenpy)\n",
            "  Downloading numcodecs-0.11.0-cp310-cp310-manylinux_2_17_x86_64.manylinux2014_x86_64.whl (6.7 MB)\n",
            "\u001b[2K     \u001b[90m━━━━━━━━━━━━━━━━━━━━━━━━━━━━━━━━━━━━━━━━\u001b[0m \u001b[32m6.7/6.7 MB\u001b[0m \u001b[31m30.3 MB/s\u001b[0m eta \u001b[36m0:00:00\u001b[0m\n",
            "\u001b[?25hRequirement already satisfied: urllib3<1.27,>=1.21.1 in /usr/local/lib/python3.10/dist-packages (from requests->magenpy) (1.26.15)\n",
            "Requirement already satisfied: certifi>=2017.4.17 in /usr/local/lib/python3.10/dist-packages (from requests->magenpy) (2022.12.7)\n",
            "Requirement already satisfied: charset-normalizer~=2.0.0 in /usr/local/lib/python3.10/dist-packages (from requests->magenpy) (2.0.12)\n",
            "Requirement already satisfied: idna<4,>=2.5 in /usr/local/lib/python3.10/dist-packages (from requests->magenpy) (3.4)\n",
            "Requirement already satisfied: pycparser in /usr/local/lib/python3.10/dist-packages (from cffi>=1.14.3->pandas-plink==2.2.4->magenpy) (2.21)\n",
            "Requirement already satisfied: wrapt<2,>=1.10 in /usr/local/lib/python3.10/dist-packages (from Deprecated>=1.2.6->pandas-plink==2.2.4->magenpy) (1.14.1)\n",
            "Requirement already satisfied: entrypoints in /usr/local/lib/python3.10/dist-packages (from numcodecs>=0.10.0->zarr->magenpy) (0.4)\n",
            "Requirement already satisfied: locket in /usr/local/lib/python3.10/dist-packages (from partd>=0.3.10->dask->magenpy) (1.0.0)\n",
            "Requirement already satisfied: attrs>=19.2.0 in /usr/local/lib/python3.10/dist-packages (from pytest>=5.2.2->pandas-plink==2.2.4->magenpy) (23.1.0)\n",
            "Requirement already satisfied: iniconfig in /usr/local/lib/python3.10/dist-packages (from pytest>=5.2.2->pandas-plink==2.2.4->magenpy) (2.0.0)\n",
            "Requirement already satisfied: pluggy<2.0,>=0.12 in /usr/local/lib/python3.10/dist-packages (from pytest>=5.2.2->pandas-plink==2.2.4->magenpy) (1.0.0)\n",
            "Requirement already satisfied: exceptiongroup>=1.0.0rc8 in /usr/local/lib/python3.10/dist-packages (from pytest>=5.2.2->pandas-plink==2.2.4->magenpy) (1.1.1)\n",
            "Requirement already satisfied: tomli>=1.0.0 in /usr/local/lib/python3.10/dist-packages (from pytest>=5.2.2->pandas-plink==2.2.4->magenpy) (2.0.1)\n",
            "Requirement already satisfied: six>=1.5 in /usr/local/lib/python3.10/dist-packages (from python-dateutil>=2.8.1->pandas->magenpy) (1.16.0)\n",
            "Requirement already satisfied: bokeh<3,>=2.4.2 in /usr/local/lib/python3.10/dist-packages (from dask->magenpy) (2.4.3)\n",
            "Requirement already satisfied: jinja2 in /usr/local/lib/python3.10/dist-packages (from dask->magenpy) (3.1.2)\n",
            "Requirement already satisfied: pillow>=7.1.0 in /usr/local/lib/python3.10/dist-packages (from bokeh<3,>=2.4.2->dask->magenpy) (8.4.0)\n",
            "Requirement already satisfied: tornado>=5.1 in /usr/local/lib/python3.10/dist-packages (from bokeh<3,>=2.4.2->dask->magenpy) (6.2)\n",
            "Requirement already satisfied: typing-extensions>=3.10.0 in /usr/local/lib/python3.10/dist-packages (from bokeh<3,>=2.4.2->dask->magenpy) (4.5.0)\n",
            "Requirement already satisfied: MarkupSafe>=2.0 in /usr/local/lib/python3.10/dist-packages (from jinja2->dask->magenpy) (2.1.2)\n",
            "Building wheels for collected packages: magenpy, pandas-plink, asciitree\n",
            "  Building wheel for magenpy (pyproject.toml) ... \u001b[?25l\u001b[?25hdone\n",
            "  Created wheel for magenpy: filename=magenpy-0.0.12-cp310-cp310-linux_x86_64.whl size=2427773 sha256=f3bcec043373014b142034618d7d324ed6acc5eb58408e0d6ac52d11ceafddaf\n",
            "  Stored in directory: /root/.cache/pip/wheels/c1/6b/93/95854e8ff2d7c69be8144916309a4c1fcf21ad734765560de6\n",
            "  Building wheel for pandas-plink (setup.py) ... \u001b[?25l\u001b[?25hdone\n",
            "  Created wheel for pandas-plink: filename=pandas_plink-2.2.4-cp310-cp310-linux_x86_64.whl size=100105 sha256=1a1528adf487e67409e738faf9c1a0b84c29f65b613c32e2a38f710f9631a3a5\n",
            "  Stored in directory: /root/.cache/pip/wheels/ff/86/59/be790f1982e6566afd1cb233c31c062f89657238241a94e5b0\n",
            "  Building wheel for asciitree (setup.py) ... \u001b[?25l\u001b[?25hdone\n",
            "  Created wheel for asciitree: filename=asciitree-0.3.3-py3-none-any.whl size=5050 sha256=8b51fcb1fc85a386e7dc4e5ce53525936915f6c00a544e3e70470415fb1a3cbe\n",
            "  Stored in directory: /root/.cache/pip/wheels/7f/4e/be/1171b40f43b918087657ec57cf3b81fa1a2e027d8755baa184\n",
            "Successfully built magenpy pandas-plink asciitree\n",
            "Installing collected packages: asciitree, zstandard, numcodecs, mypy-extensions, fasteners, Deprecated, zarr, rechunker, pandas-plink, magenpy\n",
            "Successfully installed Deprecated-1.2.13 asciitree-0.3.3 fasteners-0.18 magenpy-0.0.12 mypy-extensions-1.0.0 numcodecs-0.11.0 pandas-plink-2.2.4 rechunker-0.5.1 zarr-2.14.2 zstandard-0.21.0\n"
          ]
        }
      ]
    },
    {
      "cell_type": "code",
      "source": [
        "pip install viprs"
      ],
      "metadata": {
        "id": "NARwhskbmjwt",
        "colab": {
          "base_uri": "https://localhost:8080/"
        },
        "outputId": "d7aa1e4c-d86e-42ff-e561-699653bbdf7d"
      },
      "execution_count": null,
      "outputs": [
        {
          "output_type": "stream",
          "name": "stdout",
          "text": [
            "Looking in indexes: https://pypi.org/simple, https://us-python.pkg.dev/colab-wheels/public/simple/\n",
            "Collecting viprs\n",
            "  Downloading viprs-0.0.4.tar.gz (55 kB)\n",
            "\u001b[2K     \u001b[90m━━━━━━━━━━━━━━━━━━━━━━━━━━━━━━━━━━━━━━━━\u001b[0m \u001b[32m55.2/55.2 kB\u001b[0m \u001b[31m1.5 MB/s\u001b[0m eta \u001b[36m0:00:00\u001b[0m\n",
            "\u001b[?25h  Installing build dependencies ... \u001b[?25l\u001b[?25hdone\n",
            "  Getting requirements to build wheel ... \u001b[?25l\u001b[?25hdone\n",
            "  Preparing metadata (pyproject.toml) ... \u001b[?25l\u001b[?25hdone\n",
            "Requirement already satisfied: numpy in /usr/local/lib/python3.10/dist-packages (from viprs) (1.22.4)\n",
            "Requirement already satisfied: scipy in /usr/local/lib/python3.10/dist-packages (from viprs) (1.10.1)\n",
            "Requirement already satisfied: pandas in /usr/local/lib/python3.10/dist-packages (from viprs) (1.5.3)\n",
            "Requirement already satisfied: tqdm in /usr/local/lib/python3.10/dist-packages (from viprs) (4.65.0)\n",
            "Requirement already satisfied: magenpy>=0.0.5 in /usr/local/lib/python3.10/dist-packages (from viprs) (0.0.12)\n",
            "Requirement already satisfied: statsmodels in /usr/local/lib/python3.10/dist-packages (from viprs) (0.13.5)\n",
            "Requirement already satisfied: scikit-learn in /usr/local/lib/python3.10/dist-packages (from viprs) (1.2.2)\n",
            "Requirement already satisfied: psutil in /usr/local/lib/python3.10/dist-packages (from viprs) (5.9.5)\n",
            "Requirement already satisfied: dask in /usr/local/lib/python3.10/dist-packages (from magenpy>=0.0.5->viprs) (2022.12.1)\n",
            "Requirement already satisfied: pandas-plink==2.2.4 in /usr/local/lib/python3.10/dist-packages (from magenpy>=0.0.5->viprs) (2.2.4)\n",
            "Requirement already satisfied: zarr in /usr/local/lib/python3.10/dist-packages (from magenpy>=0.0.5->viprs) (2.14.2)\n",
            "Requirement already satisfied: requests in /usr/local/lib/python3.10/dist-packages (from magenpy>=0.0.5->viprs) (2.27.1)\n",
            "Requirement already satisfied: rechunker in /usr/local/lib/python3.10/dist-packages (from magenpy>=0.0.5->viprs) (0.5.1)\n",
            "Requirement already satisfied: Deprecated>=1.2.6 in /usr/local/lib/python3.10/dist-packages (from pandas-plink==2.2.4->magenpy>=0.0.5->viprs) (1.2.13)\n",
            "Requirement already satisfied: cffi>=1.14.3 in /usr/local/lib/python3.10/dist-packages (from pandas-plink==2.2.4->magenpy>=0.0.5->viprs) (1.15.1)\n",
            "Requirement already satisfied: pytest>=5.2.2 in /usr/local/lib/python3.10/dist-packages (from pandas-plink==2.2.4->magenpy>=0.0.5->viprs) (7.2.2)\n",
            "Requirement already satisfied: xarray>=0.16.1 in /usr/local/lib/python3.10/dist-packages (from pandas-plink==2.2.4->magenpy>=0.0.5->viprs) (2022.12.0)\n",
            "Requirement already satisfied: zstandard>=0.13.0 in /usr/local/lib/python3.10/dist-packages (from pandas-plink==2.2.4->magenpy>=0.0.5->viprs) (0.21.0)\n",
            "Requirement already satisfied: python-dateutil>=2.8.1 in /usr/local/lib/python3.10/dist-packages (from pandas->viprs) (2.8.2)\n",
            "Requirement already satisfied: pytz>=2020.1 in /usr/local/lib/python3.10/dist-packages (from pandas->viprs) (2022.7.1)\n",
            "Requirement already satisfied: joblib>=1.1.1 in /usr/local/lib/python3.10/dist-packages (from scikit-learn->viprs) (1.2.0)\n",
            "Requirement already satisfied: threadpoolctl>=2.0.0 in /usr/local/lib/python3.10/dist-packages (from scikit-learn->viprs) (3.1.0)\n",
            "Requirement already satisfied: patsy>=0.5.2 in /usr/local/lib/python3.10/dist-packages (from statsmodels->viprs) (0.5.3)\n",
            "Requirement already satisfied: packaging>=21.3 in /usr/local/lib/python3.10/dist-packages (from statsmodels->viprs) (23.1)\n",
            "Requirement already satisfied: six in /usr/local/lib/python3.10/dist-packages (from patsy>=0.5.2->statsmodels->viprs) (1.16.0)\n",
            "Requirement already satisfied: click>=7.0 in /usr/local/lib/python3.10/dist-packages (from dask->magenpy>=0.0.5->viprs) (8.1.3)\n",
            "Requirement already satisfied: cloudpickle>=1.1.1 in /usr/local/lib/python3.10/dist-packages (from dask->magenpy>=0.0.5->viprs) (2.2.1)\n",
            "Requirement already satisfied: fsspec>=0.6.0 in /usr/local/lib/python3.10/dist-packages (from dask->magenpy>=0.0.5->viprs) (2023.4.0)\n",
            "Requirement already satisfied: partd>=0.3.10 in /usr/local/lib/python3.10/dist-packages (from dask->magenpy>=0.0.5->viprs) (1.4.0)\n",
            "Requirement already satisfied: pyyaml>=5.3.1 in /usr/local/lib/python3.10/dist-packages (from dask->magenpy>=0.0.5->viprs) (6.0)\n",
            "Requirement already satisfied: toolz>=0.8.2 in /usr/local/lib/python3.10/dist-packages (from dask->magenpy>=0.0.5->viprs) (0.12.0)\n",
            "Requirement already satisfied: mypy-extensions in /usr/local/lib/python3.10/dist-packages (from rechunker->magenpy>=0.0.5->viprs) (1.0.0)\n",
            "Requirement already satisfied: asciitree in /usr/local/lib/python3.10/dist-packages (from zarr->magenpy>=0.0.5->viprs) (0.3.3)\n",
            "Requirement already satisfied: fasteners in /usr/local/lib/python3.10/dist-packages (from zarr->magenpy>=0.0.5->viprs) (0.18)\n",
            "Requirement already satisfied: numcodecs>=0.10.0 in /usr/local/lib/python3.10/dist-packages (from zarr->magenpy>=0.0.5->viprs) (0.11.0)\n",
            "Requirement already satisfied: urllib3<1.27,>=1.21.1 in /usr/local/lib/python3.10/dist-packages (from requests->magenpy>=0.0.5->viprs) (1.26.15)\n",
            "Requirement already satisfied: certifi>=2017.4.17 in /usr/local/lib/python3.10/dist-packages (from requests->magenpy>=0.0.5->viprs) (2022.12.7)\n",
            "Requirement already satisfied: charset-normalizer~=2.0.0 in /usr/local/lib/python3.10/dist-packages (from requests->magenpy>=0.0.5->viprs) (2.0.12)\n",
            "Requirement already satisfied: idna<4,>=2.5 in /usr/local/lib/python3.10/dist-packages (from requests->magenpy>=0.0.5->viprs) (3.4)\n",
            "Requirement already satisfied: pycparser in /usr/local/lib/python3.10/dist-packages (from cffi>=1.14.3->pandas-plink==2.2.4->magenpy>=0.0.5->viprs) (2.21)\n",
            "Requirement already satisfied: wrapt<2,>=1.10 in /usr/local/lib/python3.10/dist-packages (from Deprecated>=1.2.6->pandas-plink==2.2.4->magenpy>=0.0.5->viprs) (1.14.1)\n",
            "Requirement already satisfied: entrypoints in /usr/local/lib/python3.10/dist-packages (from numcodecs>=0.10.0->zarr->magenpy>=0.0.5->viprs) (0.4)\n",
            "Requirement already satisfied: locket in /usr/local/lib/python3.10/dist-packages (from partd>=0.3.10->dask->magenpy>=0.0.5->viprs) (1.0.0)\n",
            "Requirement already satisfied: attrs>=19.2.0 in /usr/local/lib/python3.10/dist-packages (from pytest>=5.2.2->pandas-plink==2.2.4->magenpy>=0.0.5->viprs) (23.1.0)\n",
            "Requirement already satisfied: iniconfig in /usr/local/lib/python3.10/dist-packages (from pytest>=5.2.2->pandas-plink==2.2.4->magenpy>=0.0.5->viprs) (2.0.0)\n",
            "Requirement already satisfied: pluggy<2.0,>=0.12 in /usr/local/lib/python3.10/dist-packages (from pytest>=5.2.2->pandas-plink==2.2.4->magenpy>=0.0.5->viprs) (1.0.0)\n",
            "Requirement already satisfied: exceptiongroup>=1.0.0rc8 in /usr/local/lib/python3.10/dist-packages (from pytest>=5.2.2->pandas-plink==2.2.4->magenpy>=0.0.5->viprs) (1.1.1)\n",
            "Requirement already satisfied: tomli>=1.0.0 in /usr/local/lib/python3.10/dist-packages (from pytest>=5.2.2->pandas-plink==2.2.4->magenpy>=0.0.5->viprs) (2.0.1)\n",
            "Requirement already satisfied: bokeh<3,>=2.4.2 in /usr/local/lib/python3.10/dist-packages (from dask->magenpy>=0.0.5->viprs) (2.4.3)\n",
            "Requirement already satisfied: jinja2 in /usr/local/lib/python3.10/dist-packages (from dask->magenpy>=0.0.5->viprs) (3.1.2)\n",
            "Requirement already satisfied: pillow>=7.1.0 in /usr/local/lib/python3.10/dist-packages (from bokeh<3,>=2.4.2->dask->magenpy>=0.0.5->viprs) (8.4.0)\n",
            "Requirement already satisfied: tornado>=5.1 in /usr/local/lib/python3.10/dist-packages (from bokeh<3,>=2.4.2->dask->magenpy>=0.0.5->viprs) (6.2)\n",
            "Requirement already satisfied: typing-extensions>=3.10.0 in /usr/local/lib/python3.10/dist-packages (from bokeh<3,>=2.4.2->dask->magenpy>=0.0.5->viprs) (4.5.0)\n",
            "Requirement already satisfied: MarkupSafe>=2.0 in /usr/local/lib/python3.10/dist-packages (from jinja2->dask->magenpy>=0.0.5->viprs) (2.1.2)\n",
            "Building wheels for collected packages: viprs\n",
            "  Building wheel for viprs (pyproject.toml) ... \u001b[?25l\u001b[?25hdone\n",
            "  Created wheel for viprs: filename=viprs-0.0.4-cp310-cp310-linux_x86_64.whl size=4641042 sha256=b6a2ee902d796864ec7306af80f853838916657716cabca5a2711c5c9a143dd6\n",
            "  Stored in directory: /root/.cache/pip/wheels/95/76/c6/4444041d9788e64e77c8683422826142bfb0b93efd3a7749a0\n",
            "Successfully built viprs\n",
            "Installing collected packages: viprs\n",
            "Successfully installed viprs-0.0.4\n"
          ]
        }
      ]
    },
    {
      "cell_type": "code",
      "execution_count": null,
      "metadata": {
        "id": "zS2_4bkNfcSY"
      },
      "outputs": [],
      "source": [
        "import pandas as pd\n",
        "import numpy as np\n",
        "import magenpy as mgp\n",
        "import zarr\n",
        "import math\n",
        "from itertools import combinations\n",
        "import matplotlib.pyplot as plt\n",
        "from sklearn.linear_model import LinearRegression\n",
        "from sklearn.metrics import r2_score\n",
        "import viprs as vp\n",
        "from tqdm import tqdm"
      ]
    },
    {
      "cell_type": "code",
      "source": [
        "from google.colab import drive\n",
        "drive.mount('/content/gdrive')"
      ],
      "metadata": {
        "id": "KF6egu_1irWV",
        "colab": {
          "base_uri": "https://localhost:8080/"
        },
        "outputId": "4d6c1ea3-3bda-4e0e-d90e-2a5e0fa7f593"
      },
      "execution_count": null,
      "outputs": [
        {
          "output_type": "stream",
          "name": "stdout",
          "text": [
            "Mounted at /content/gdrive\n"
          ]
        }
      ]
    },
    {
      "cell_type": "code",
      "source": [
        "import collections\n",
        "collections.Iterable = collections.abc.Iterable"
      ],
      "metadata": {
        "id": "9ivtYnmSEuqU"
      },
      "execution_count": null,
      "outputs": []
    },
    {
      "cell_type": "markdown",
      "source": [
        "# Load the data"
      ],
      "metadata": {
        "id": "A8UpWPkTMu9V"
      }
    },
    {
      "cell_type": "markdown",
      "source": [
        "## Train and test data"
      ],
      "metadata": {
        "id": "L8Ml2ORQvrpe"
      }
    },
    {
      "cell_type": "markdown",
      "source": [
        "### CHR_21"
      ],
      "metadata": {
        "id": "w5Fs17XDwGNN"
      }
    },
    {
      "cell_type": "code",
      "source": [
        "gdl_21_train_fold_1 = mgp.GWADataLoader(ld_store_files=\"/content/gdrive/My Drive/COMP 565/final_project/chr_21\",\n",
        "                        sumstats_files=\"/content/gdrive/My Drive/COMP 565/final_project/sumstats/training/height_fold_1.sumstats.csv\",\n",
        "                        sumstats_format=\"plink\")\n",
        "gdl_21_train_fold_2 = mgp.GWADataLoader(ld_store_files=\"/content/gdrive/My Drive/COMP 565/final_project/chr_21\",\n",
        "                        sumstats_files=\"/content/gdrive/My Drive/COMP 565/final_project/sumstats/training/height_fold_2.sumstats.csv\",\n",
        "                        sumstats_format=\"plink\")\n",
        "gdl_21_train_fold_3 = mgp.GWADataLoader(ld_store_files=\"/content/gdrive/My Drive/COMP 565/final_project/chr_21\",\n",
        "                        sumstats_files=\"/content/gdrive/My Drive/COMP 565/final_project/sumstats/training/height_fold_3.sumstats.csv\",\n",
        "                        sumstats_format=\"plink\")\n",
        "gdl_21_train_fold_4 = mgp.GWADataLoader(ld_store_files=\"/content/gdrive/My Drive/COMP 565/final_project/chr_21\",\n",
        "                        sumstats_files=\"/content/gdrive/My Drive/COMP 565/final_project/sumstats/training/height_fold_4.sumstats.csv\",\n",
        "                        sumstats_format=\"plink\")\n",
        "gdl_21_train_fold_5 = mgp.GWADataLoader(ld_store_files=\"/content/gdrive/My Drive/COMP 565/final_project/chr_21\",\n",
        "                        sumstats_files=\"/content/gdrive/My Drive/COMP 565/final_project/sumstats/training/height_fold_5.sumstats.csv\",\n",
        "                        sumstats_format=\"plink\")"
      ],
      "metadata": {
        "id": "ULtBJX2UjESU",
        "colab": {
          "base_uri": "https://localhost:8080/"
        },
        "outputId": "edc21eb0-8429-4d5b-9460-ee5d75e72cda"
      },
      "execution_count": null,
      "outputs": [
        {
          "output_type": "stream",
          "name": "stdout",
          "text": [
            "> Reading LD matrix...\n",
            "> Reading summary statistics file...\n"
          ]
        },
        {
          "output_type": "stream",
          "name": "stderr",
          "text": [
            "Harmonizing data: 100%|██████████| 22/22 [00:00<00:00, 171.90it/s]\n"
          ]
        },
        {
          "output_type": "stream",
          "name": "stdout",
          "text": [
            "> Reading LD matrix...\n",
            "> Reading summary statistics file...\n"
          ]
        },
        {
          "output_type": "stream",
          "name": "stderr",
          "text": [
            "Harmonizing data: 100%|██████████| 22/22 [00:00<00:00, 175.82it/s]\n"
          ]
        },
        {
          "output_type": "stream",
          "name": "stdout",
          "text": [
            "> Reading LD matrix...\n",
            "> Reading summary statistics file...\n"
          ]
        },
        {
          "output_type": "stream",
          "name": "stderr",
          "text": [
            "Harmonizing data: 100%|██████████| 22/22 [00:00<00:00, 176.91it/s]\n"
          ]
        },
        {
          "output_type": "stream",
          "name": "stdout",
          "text": [
            "> Reading LD matrix...\n",
            "> Reading summary statistics file...\n"
          ]
        },
        {
          "output_type": "stream",
          "name": "stderr",
          "text": [
            "Harmonizing data: 100%|██████████| 22/22 [00:00<00:00, 174.97it/s]\n"
          ]
        },
        {
          "output_type": "stream",
          "name": "stdout",
          "text": [
            "> Reading LD matrix...\n",
            "> Reading summary statistics file...\n"
          ]
        },
        {
          "output_type": "stream",
          "name": "stderr",
          "text": [
            "Harmonizing data: 100%|██████████| 22/22 [00:00<00:00, 174.54it/s]\n"
          ]
        }
      ]
    },
    {
      "cell_type": "code",
      "source": [
        "gdl_21_test_fold_1 = mgp.GWADataLoader(ld_store_files=\"/content/gdrive/My Drive/COMP 565/final_project/chr_21\",\n",
        "                        sumstats_files=\"/content/gdrive/My Drive/COMP 565/final_project/sumstats/test/height_test_fold_1.csv\",\n",
        "                        sumstats_format=\"magenpy\")\n",
        "gdl_21_test_fold_2 = mgp.GWADataLoader(ld_store_files=\"/content/gdrive/My Drive/COMP 565/final_project/chr_21\",\n",
        "                        sumstats_files=\"/content/gdrive/My Drive/COMP 565/final_project/sumstats/test/height_test_fold_2.csv\",\n",
        "                        sumstats_format=\"magenpy\")\n",
        "gdl_21_test_fold_3 = mgp.GWADataLoader(ld_store_files=\"/content/gdrive/My Drive/COMP 565/final_project/chr_21\",\n",
        "                        sumstats_files=\"/content/gdrive/My Drive/COMP 565/final_project/sumstats/test/height_test_fold_3.csv\",\n",
        "                        sumstats_format=\"magenpy\")\n",
        "gdl_21_test_fold_4 = mgp.GWADataLoader(ld_store_files=\"/content/gdrive/My Drive/COMP 565/final_project/chr_21\",\n",
        "                        sumstats_files=\"/content/gdrive/My Drive/COMP 565/final_project/sumstats/test/height_test_fold_4.csv\",\n",
        "                        sumstats_format=\"magenpy\")\n",
        "gdl_21_test_fold_5 = mgp.GWADataLoader(ld_store_files=\"/content/gdrive/My Drive/COMP 565/final_project/chr_21\",\n",
        "                        sumstats_files=\"/content/gdrive/My Drive/COMP 565/final_project/sumstats/test/height_test_fold_5.csv\",\n",
        "                        sumstats_format=\"magenpy\")"
      ],
      "metadata": {
        "id": "hgmKqfsVocJd",
        "colab": {
          "base_uri": "https://localhost:8080/"
        },
        "outputId": "f4c13b35-9875-4106-a970-f38d68ff1d73"
      },
      "execution_count": null,
      "outputs": [
        {
          "output_type": "stream",
          "name": "stdout",
          "text": [
            "> Reading LD matrix...\n",
            "> Reading summary statistics file...\n"
          ]
        },
        {
          "output_type": "stream",
          "name": "stderr",
          "text": [
            "Harmonizing data: 100%|██████████| 22/22 [00:00<00:00, 125.37it/s]\n"
          ]
        },
        {
          "output_type": "stream",
          "name": "stdout",
          "text": [
            "> Reading LD matrix...\n",
            "> Reading summary statistics file...\n"
          ]
        },
        {
          "output_type": "stream",
          "name": "stderr",
          "text": [
            "Harmonizing data: 100%|██████████| 22/22 [00:00<00:00, 212.11it/s]\n"
          ]
        },
        {
          "output_type": "stream",
          "name": "stdout",
          "text": [
            "> Reading LD matrix...\n",
            "> Reading summary statistics file...\n"
          ]
        },
        {
          "output_type": "stream",
          "name": "stderr",
          "text": [
            "Harmonizing data: 100%|██████████| 22/22 [00:00<00:00, 192.19it/s]\n"
          ]
        },
        {
          "output_type": "stream",
          "name": "stdout",
          "text": [
            "> Reading LD matrix...\n",
            "> Reading summary statistics file...\n"
          ]
        },
        {
          "output_type": "stream",
          "name": "stderr",
          "text": [
            "Harmonizing data: 100%|██████████| 22/22 [00:00<00:00, 141.60it/s]\n"
          ]
        },
        {
          "output_type": "stream",
          "name": "stdout",
          "text": [
            "> Reading LD matrix...\n",
            "> Reading summary statistics file...\n"
          ]
        },
        {
          "output_type": "stream",
          "name": "stderr",
          "text": [
            "Harmonizing data: 100%|██████████| 22/22 [00:00<00:00, 196.18it/s]\n"
          ]
        }
      ]
    },
    {
      "cell_type": "markdown",
      "source": [
        "### CHR_22"
      ],
      "metadata": {
        "id": "8Dy7OtK8oUiP"
      }
    },
    {
      "cell_type": "code",
      "source": [
        "gdl_22_train_fold_1 = mgp.GWADataLoader(ld_store_files=\"/content/gdrive/My Drive/COMP 565/final_project/chr_22\",\n",
        "                        sumstats_files=\"/content/gdrive/My Drive/COMP 565/final_project/sumstats/training/height_fold_1.sumstats.csv\",\n",
        "                        sumstats_format=\"plink\")\n",
        "gdl_22_train_fold_2 = mgp.GWADataLoader(ld_store_files=\"/content/gdrive/My Drive/COMP 565/final_project/chr_22\",\n",
        "                        sumstats_files=\"/content/gdrive/My Drive/COMP 565/final_project/sumstats/training/height_fold_2.sumstats.csv\",\n",
        "                        sumstats_format=\"plink\")\n",
        "gdl_22_train_fold_3 = mgp.GWADataLoader(ld_store_files=\"/content/gdrive/My Drive/COMP 565/final_project/chr_22\",\n",
        "                        sumstats_files=\"/content/gdrive/My Drive/COMP 565/final_project/sumstats/training/height_fold_3.sumstats.csv\",\n",
        "                        sumstats_format=\"plink\")\n",
        "gdl_22_train_fold_4 = mgp.GWADataLoader(ld_store_files=\"/content/gdrive/My Drive/COMP 565/final_project/chr_22\",\n",
        "                        sumstats_files=\"/content/gdrive/My Drive/COMP 565/final_project/sumstats/training/height_fold_4.sumstats.csv\",\n",
        "                        sumstats_format=\"plink\")\n",
        "gdl_22_train_fold_5 = mgp.GWADataLoader(ld_store_files=\"/content/gdrive/My Drive/COMP 565/final_project/chr_22\",\n",
        "                        sumstats_files=\"/content/gdrive/My Drive/COMP 565/final_project/sumstats/training/height_fold_5.sumstats.csv\",\n",
        "                        sumstats_format=\"plink\")"
      ],
      "metadata": {
        "colab": {
          "base_uri": "https://localhost:8080/"
        },
        "id": "m90jLDSoFSN-",
        "outputId": "a949f59a-d0b3-44b2-ad19-4971f8af73fa"
      },
      "execution_count": null,
      "outputs": [
        {
          "output_type": "stream",
          "name": "stdout",
          "text": [
            "> Reading LD matrix...\n",
            "> Reading summary statistics file...\n"
          ]
        },
        {
          "output_type": "stream",
          "name": "stderr",
          "text": [
            "Harmonizing data: 100%|██████████| 22/22 [00:00<00:00, 160.35it/s]\n"
          ]
        },
        {
          "output_type": "stream",
          "name": "stdout",
          "text": [
            "> Reading LD matrix...\n",
            "> Reading summary statistics file...\n"
          ]
        },
        {
          "output_type": "stream",
          "name": "stderr",
          "text": [
            "Harmonizing data: 100%|██████████| 22/22 [00:00<00:00, 172.34it/s]\n"
          ]
        },
        {
          "output_type": "stream",
          "name": "stdout",
          "text": [
            "> Reading LD matrix...\n",
            "> Reading summary statistics file...\n"
          ]
        },
        {
          "output_type": "stream",
          "name": "stderr",
          "text": [
            "Harmonizing data: 100%|██████████| 22/22 [00:00<00:00, 96.02it/s]\n"
          ]
        },
        {
          "output_type": "stream",
          "name": "stdout",
          "text": [
            "> Reading LD matrix...\n",
            "> Reading summary statistics file...\n"
          ]
        },
        {
          "output_type": "stream",
          "name": "stderr",
          "text": [
            "Harmonizing data: 100%|██████████| 22/22 [00:00<00:00, 155.85it/s]\n"
          ]
        },
        {
          "output_type": "stream",
          "name": "stdout",
          "text": [
            "> Reading LD matrix...\n",
            "> Reading summary statistics file...\n"
          ]
        },
        {
          "output_type": "stream",
          "name": "stderr",
          "text": [
            "Harmonizing data: 100%|██████████| 22/22 [00:00<00:00, 99.72it/s] \n"
          ]
        }
      ]
    },
    {
      "cell_type": "code",
      "source": [
        "gdl_22_test_fold_1 = mgp.GWADataLoader(ld_store_files=\"/content/gdrive/My Drive/COMP 565/final_project/chr_22\",\n",
        "                        sumstats_files=\"/content/gdrive/My Drive/COMP 565/final_project/sumstats/test/height_test_fold_1.csv\",\n",
        "                        sumstats_format=\"magenpy\")\n",
        "gdl_22_test_fold_2 = mgp.GWADataLoader(ld_store_files=\"/content/gdrive/My Drive/COMP 565/final_project/chr_22\",\n",
        "                        sumstats_files=\"/content/gdrive/My Drive/COMP 565/final_project/sumstats/test/height_test_fold_2.csv\",\n",
        "                        sumstats_format=\"magenpy\")\n",
        "gdl_22_test_fold_3 = mgp.GWADataLoader(ld_store_files=\"/content/gdrive/My Drive/COMP 565/final_project/chr_22\",\n",
        "                        sumstats_files=\"/content/gdrive/My Drive/COMP 565/final_project/sumstats/test/height_test_fold_3.csv\",\n",
        "                        sumstats_format=\"magenpy\")\n",
        "gdl_22_test_fold_4 = mgp.GWADataLoader(ld_store_files=\"/content/gdrive/My Drive/COMP 565/final_project/chr_22\",\n",
        "                        sumstats_files=\"/content/gdrive/My Drive/COMP 565/final_project/sumstats/test/height_test_fold_4.csv\",\n",
        "                        sumstats_format=\"magenpy\")\n",
        "gdl_22_test_fold_5 = mgp.GWADataLoader(ld_store_files=\"/content/gdrive/My Drive/COMP 565/final_project/chr_22\",\n",
        "                        sumstats_files=\"/content/gdrive/My Drive/COMP 565/final_project/sumstats/test/height_test_fold_5.csv\",\n",
        "                        sumstats_format=\"magenpy\")"
      ],
      "metadata": {
        "id": "vKfjwlcyF4WX",
        "colab": {
          "base_uri": "https://localhost:8080/"
        },
        "outputId": "4b4fc6a0-d262-4d2f-f29b-452befe5b665"
      },
      "execution_count": null,
      "outputs": [
        {
          "output_type": "stream",
          "name": "stdout",
          "text": [
            "> Reading LD matrix...\n",
            "> Reading summary statistics file...\n"
          ]
        },
        {
          "output_type": "stream",
          "name": "stderr",
          "text": [
            "Harmonizing data: 100%|██████████| 22/22 [00:00<00:00, 183.43it/s]\n"
          ]
        },
        {
          "output_type": "stream",
          "name": "stdout",
          "text": [
            "> Reading LD matrix...\n",
            "> Reading summary statistics file...\n"
          ]
        },
        {
          "output_type": "stream",
          "name": "stderr",
          "text": [
            "Harmonizing data: 100%|██████████| 22/22 [00:00<00:00, 187.00it/s]\n"
          ]
        },
        {
          "output_type": "stream",
          "name": "stdout",
          "text": [
            "> Reading LD matrix...\n",
            "> Reading summary statistics file...\n"
          ]
        },
        {
          "output_type": "stream",
          "name": "stderr",
          "text": [
            "Harmonizing data: 100%|██████████| 22/22 [00:00<00:00, 107.63it/s]\n"
          ]
        },
        {
          "output_type": "stream",
          "name": "stdout",
          "text": [
            "> Reading LD matrix...\n",
            "> Reading summary statistics file...\n"
          ]
        },
        {
          "output_type": "stream",
          "name": "stderr",
          "text": [
            "Harmonizing data: 100%|██████████| 22/22 [00:00<00:00, 174.79it/s]\n"
          ]
        },
        {
          "output_type": "stream",
          "name": "stdout",
          "text": [
            "> Reading LD matrix...\n",
            "> Reading summary statistics file...\n"
          ]
        },
        {
          "output_type": "stream",
          "name": "stderr",
          "text": [
            "Harmonizing data: 100%|██████████| 22/22 [00:00<00:00, 174.71it/s]\n"
          ]
        }
      ]
    },
    {
      "cell_type": "markdown",
      "source": [
        "## LD"
      ],
      "metadata": {
        "id": "UdUdRKuDRWVG"
      }
    },
    {
      "cell_type": "code",
      "source": [
        "# Read the LD matrix:\n",
        "ldm_21 = mgp.LDMatrix.from_path(\"/content/gdrive/My Drive/COMP 565/final_project/chr_21\")\n",
        "# print the number of SNPs:\n",
        "print(ldm_21.n_snps)\n",
        "# Convert to sparse matrix format:\n",
        "LD_chr_21 = ldm_21.to_csr_matrix() #16320*16320\n",
        "\n",
        "# Read the LD matrix:\n",
        "ldm_22 = mgp.LDMatrix.from_path(\"/content/gdrive/My Drive/COMP 565/final_project/chr_22\")\n",
        "# print the number of SNPs:\n",
        "print(ldm_22.n_snps)\n",
        "# Convert to sparse matrix format:\n",
        "LD_chr_22 = ldm_22.to_csr_matrix() # 16558*16558"
      ],
      "metadata": {
        "id": "f3682TFqKdXs",
        "colab": {
          "base_uri": "https://localhost:8080/"
        },
        "outputId": "50ac2b94-7019-46b3-c036-58055aaee5b6"
      },
      "execution_count": null,
      "outputs": [
        {
          "output_type": "stream",
          "name": "stdout",
          "text": [
            "16320\n",
            "16558\n"
          ]
        }
      ]
    },
    {
      "cell_type": "code",
      "source": [
        "LD_chr_21.toarray()"
      ],
      "metadata": {
        "colab": {
          "base_uri": "https://localhost:8080/"
        },
        "id": "KkPxmyFqOT5j",
        "outputId": "47293cab-a3cc-4e75-921b-91cef0c5bd5f"
      },
      "execution_count": null,
      "outputs": [
        {
          "output_type": "execute_result",
          "data": {
            "text/plain": [
              "array([[ 1.      ,  0.998864,  0.99998 , ...,  0.      ,  0.      ,\n",
              "         0.      ],\n",
              "       [ 0.998864,  1.      ,  0.998885, ...,  0.      ,  0.      ,\n",
              "         0.      ],\n",
              "       [ 0.99998 ,  0.998885,  1.      , ...,  0.      ,  0.      ,\n",
              "         0.      ],\n",
              "       ...,\n",
              "       [ 0.      ,  0.      ,  0.      , ...,  1.      ,  0.999708,\n",
              "        -0.354345],\n",
              "       [ 0.      ,  0.      ,  0.      , ...,  0.999708,  1.      ,\n",
              "        -0.354298],\n",
              "       [ 0.      ,  0.      ,  0.      , ..., -0.354345, -0.354298,\n",
              "         1.      ]])"
            ]
          },
          "metadata": {},
          "execution_count": 8
        }
      ]
    },
    {
      "cell_type": "code",
      "source": [
        "LD_chr_22.toarray()"
      ],
      "metadata": {
        "colab": {
          "base_uri": "https://localhost:8080/"
        },
        "id": "ULLKDVYwMO3w",
        "outputId": "b70b0dc1-5dc6-4009-a114-2e77daeb4487"
      },
      "execution_count": null,
      "outputs": [
        {
          "output_type": "execute_result",
          "data": {
            "text/plain": [
              "array([[1.      , 0.998795, 0.984465, ..., 0.      , 0.      , 0.      ],\n",
              "       [0.998795, 1.      , 0.985279, ..., 0.      , 0.      , 0.      ],\n",
              "       [0.984465, 0.985279, 1.      , ..., 0.      , 0.      , 0.      ],\n",
              "       ...,\n",
              "       [0.      , 0.      , 0.      , ..., 1.      , 0.946327, 0.55209 ],\n",
              "       [0.      , 0.      , 0.      , ..., 0.946327, 1.      , 0.589543],\n",
              "       [0.      , 0.      , 0.      , ..., 0.55209 , 0.589543, 1.      ]])"
            ]
          },
          "metadata": {},
          "execution_count": 9
        }
      ]
    },
    {
      "cell_type": "markdown",
      "source": [
        "## Annotation"
      ],
      "metadata": {
        "id": "wcWeMPKwRalR"
      }
    },
    {
      "cell_type": "code",
      "source": [
        "annotation_21 = pd.read_csv(\"/content/gdrive/My Drive/COMP 565/final_project/annotations/baselineLD.21.annot\",sep='\\t')\n",
        "annotation_22 = pd.read_csv(\"/content/gdrive/My Drive/COMP 565/final_project/annotations/baselineLD.22.annot\",sep='\\t')"
      ],
      "metadata": {
        "id": "WYHV2TY8KjNo"
      },
      "execution_count": null,
      "outputs": []
    },
    {
      "cell_type": "code",
      "source": [
        "annotation_21 = annotation_21.drop([\"BP\", \"CM\", \"base\"], axis = 1)\n",
        "annotation_21"
      ],
      "metadata": {
        "colab": {
          "base_uri": "https://localhost:8080/"
        },
        "id": "PECkVrVaFfwQ",
        "outputId": "fd57289c-e10b-48ae-9ba9-a8e4af8a6580"
      },
      "execution_count": null,
      "outputs": [
        {
          "output_type": "execute_result",
          "data": {
            "text/plain": [
              "        CHR          SNP  Coding_UCSC  Coding_UCSC.flanking.500  \\\n",
              "0        21  rs146134162            0                         0   \n",
              "1        21  rs578050168            0                         0   \n",
              "2        21  rs527616997            0                         0   \n",
              "3        21  rs544748596            0                         0   \n",
              "4        21  rs528236937            0                         0   \n",
              "...     ...          ...          ...                       ...   \n",
              "138707   21   rs11910421            0                         0   \n",
              "138708   21  rs559373972            0                         0   \n",
              "138709   21  rs533222456            0                         0   \n",
              "138710   21  rs199868906            0                         0   \n",
              "138711   21  rs374001814            0                         0   \n",
              "\n",
              "        Conserved_LindbladToh  Conserved_LindbladToh.flanking.500  \\\n",
              "0                           0                                   0   \n",
              "1                           0                                   0   \n",
              "2                           0                                   0   \n",
              "3                           0                                   0   \n",
              "4                           0                                   0   \n",
              "...                       ...                                 ...   \n",
              "138707                      0                                   0   \n",
              "138708                      0                                   0   \n",
              "138709                      0                                   0   \n",
              "138710                      0                                   0   \n",
              "138711                      0                                   0   \n",
              "\n",
              "        CTCF_Hoffman  CTCF_Hoffman.flanking.500  DGF_ENCODE  \\\n",
              "0                  0                          0           0   \n",
              "1                  0                          0           0   \n",
              "2                  0                          0           0   \n",
              "3                  0                          0           0   \n",
              "4                  0                          0           0   \n",
              "...              ...                        ...         ...   \n",
              "138707             0                          0           0   \n",
              "138708             0                          0           0   \n",
              "138709             0                          0           0   \n",
              "138710             0                          0           0   \n",
              "138711             0                          0           0   \n",
              "\n",
              "        DGF_ENCODE.flanking.500  ...  Human_Promoter_Villar.flanking.500  \\\n",
              "0                             0  ...                                   0   \n",
              "1                             0  ...                                   0   \n",
              "2                             0  ...                                   0   \n",
              "3                             0  ...                                   0   \n",
              "4                             0  ...                                   0   \n",
              "...                         ...  ...                                 ...   \n",
              "138707                        0  ...                                   0   \n",
              "138708                        0  ...                                   0   \n",
              "138709                        0  ...                                   0   \n",
              "138710                        0  ...                                   0   \n",
              "138711                        0  ...                                   0   \n",
              "\n",
              "        Human_Enhancer_Villar  Human_Enhancer_Villar.flanking.500  \\\n",
              "0                           0                                   0   \n",
              "1                           0                                   0   \n",
              "2                           0                                   0   \n",
              "3                           0                                   0   \n",
              "4                           0                                   0   \n",
              "...                       ...                                 ...   \n",
              "138707                      0                                   0   \n",
              "138708                      0                                   0   \n",
              "138709                      0                                   0   \n",
              "138710                      0                                   0   \n",
              "138711                      0                                   0   \n",
              "\n",
              "        Ancient_Sequence_Age_Human_Promoter  \\\n",
              "0                                         0   \n",
              "1                                         0   \n",
              "2                                         0   \n",
              "3                                         0   \n",
              "4                                         0   \n",
              "...                                     ...   \n",
              "138707                                    0   \n",
              "138708                                    0   \n",
              "138709                                    0   \n",
              "138710                                    0   \n",
              "138711                                    0   \n",
              "\n",
              "        Ancient_Sequence_Age_Human_Promoter.flanking.500  \\\n",
              "0                                                      0   \n",
              "1                                                      0   \n",
              "2                                                      0   \n",
              "3                                                      0   \n",
              "4                                                      0   \n",
              "...                                                  ...   \n",
              "138707                                                 0   \n",
              "138708                                                 0   \n",
              "138709                                                 0   \n",
              "138710                                                 0   \n",
              "138711                                                 0   \n",
              "\n",
              "        Ancient_Sequence_Age_Human_Enhancer  \\\n",
              "0                                         0   \n",
              "1                                         0   \n",
              "2                                         0   \n",
              "3                                         0   \n",
              "4                                         0   \n",
              "...                                     ...   \n",
              "138707                                    0   \n",
              "138708                                    0   \n",
              "138709                                    0   \n",
              "138710                                    0   \n",
              "138711                                    0   \n",
              "\n",
              "        Ancient_Sequence_Age_Human_Enhancer.flanking.500  \\\n",
              "0                                                      0   \n",
              "1                                                      0   \n",
              "2                                                      0   \n",
              "3                                                      0   \n",
              "4                                                      0   \n",
              "...                                                  ...   \n",
              "138707                                                 0   \n",
              "138708                                                 0   \n",
              "138709                                                 0   \n",
              "138710                                                 0   \n",
              "138711                                                 0   \n",
              "\n",
              "        Human_Enhancer_Villar_Species_Enhancer_Count  \\\n",
              "0                                                  0   \n",
              "1                                                  0   \n",
              "2                                                  0   \n",
              "3                                                  0   \n",
              "4                                                  0   \n",
              "...                                              ...   \n",
              "138707                                             0   \n",
              "138708                                             0   \n",
              "138709                                             0   \n",
              "138710                                             0   \n",
              "138711                                             0   \n",
              "\n",
              "        Human_Promoter_Villar_ExAC  Human_Promoter_Villar_ExAC.flanking.500  \n",
              "0                                0                                        0  \n",
              "1                                0                                        0  \n",
              "2                                0                                        0  \n",
              "3                                0                                        0  \n",
              "4                                0                                        0  \n",
              "...                            ...                                      ...  \n",
              "138707                           0                                        0  \n",
              "138708                           0                                        0  \n",
              "138709                           0                                        0  \n",
              "138710                           0                                        0  \n",
              "138711                           0                                        0  \n",
              "\n",
              "[138712 rows x 98 columns]"
            ],
            "text/html": [
              "\n",
              "  <div id=\"df-d79cd442-5676-424f-9554-79fddf778aac\">\n",
              "    <div class=\"colab-df-container\">\n",
              "      <div>\n",
              "<style scoped>\n",
              "    .dataframe tbody tr th:only-of-type {\n",
              "        vertical-align: middle;\n",
              "    }\n",
              "\n",
              "    .dataframe tbody tr th {\n",
              "        vertical-align: top;\n",
              "    }\n",
              "\n",
              "    .dataframe thead th {\n",
              "        text-align: right;\n",
              "    }\n",
              "</style>\n",
              "<table border=\"1\" class=\"dataframe\">\n",
              "  <thead>\n",
              "    <tr style=\"text-align: right;\">\n",
              "      <th></th>\n",
              "      <th>CHR</th>\n",
              "      <th>SNP</th>\n",
              "      <th>Coding_UCSC</th>\n",
              "      <th>Coding_UCSC.flanking.500</th>\n",
              "      <th>Conserved_LindbladToh</th>\n",
              "      <th>Conserved_LindbladToh.flanking.500</th>\n",
              "      <th>CTCF_Hoffman</th>\n",
              "      <th>CTCF_Hoffman.flanking.500</th>\n",
              "      <th>DGF_ENCODE</th>\n",
              "      <th>DGF_ENCODE.flanking.500</th>\n",
              "      <th>...</th>\n",
              "      <th>Human_Promoter_Villar.flanking.500</th>\n",
              "      <th>Human_Enhancer_Villar</th>\n",
              "      <th>Human_Enhancer_Villar.flanking.500</th>\n",
              "      <th>Ancient_Sequence_Age_Human_Promoter</th>\n",
              "      <th>Ancient_Sequence_Age_Human_Promoter.flanking.500</th>\n",
              "      <th>Ancient_Sequence_Age_Human_Enhancer</th>\n",
              "      <th>Ancient_Sequence_Age_Human_Enhancer.flanking.500</th>\n",
              "      <th>Human_Enhancer_Villar_Species_Enhancer_Count</th>\n",
              "      <th>Human_Promoter_Villar_ExAC</th>\n",
              "      <th>Human_Promoter_Villar_ExAC.flanking.500</th>\n",
              "    </tr>\n",
              "  </thead>\n",
              "  <tbody>\n",
              "    <tr>\n",
              "      <th>0</th>\n",
              "      <td>21</td>\n",
              "      <td>rs146134162</td>\n",
              "      <td>0</td>\n",
              "      <td>0</td>\n",
              "      <td>0</td>\n",
              "      <td>0</td>\n",
              "      <td>0</td>\n",
              "      <td>0</td>\n",
              "      <td>0</td>\n",
              "      <td>0</td>\n",
              "      <td>...</td>\n",
              "      <td>0</td>\n",
              "      <td>0</td>\n",
              "      <td>0</td>\n",
              "      <td>0</td>\n",
              "      <td>0</td>\n",
              "      <td>0</td>\n",
              "      <td>0</td>\n",
              "      <td>0</td>\n",
              "      <td>0</td>\n",
              "      <td>0</td>\n",
              "    </tr>\n",
              "    <tr>\n",
              "      <th>1</th>\n",
              "      <td>21</td>\n",
              "      <td>rs578050168</td>\n",
              "      <td>0</td>\n",
              "      <td>0</td>\n",
              "      <td>0</td>\n",
              "      <td>0</td>\n",
              "      <td>0</td>\n",
              "      <td>0</td>\n",
              "      <td>0</td>\n",
              "      <td>0</td>\n",
              "      <td>...</td>\n",
              "      <td>0</td>\n",
              "      <td>0</td>\n",
              "      <td>0</td>\n",
              "      <td>0</td>\n",
              "      <td>0</td>\n",
              "      <td>0</td>\n",
              "      <td>0</td>\n",
              "      <td>0</td>\n",
              "      <td>0</td>\n",
              "      <td>0</td>\n",
              "    </tr>\n",
              "    <tr>\n",
              "      <th>2</th>\n",
              "      <td>21</td>\n",
              "      <td>rs527616997</td>\n",
              "      <td>0</td>\n",
              "      <td>0</td>\n",
              "      <td>0</td>\n",
              "      <td>0</td>\n",
              "      <td>0</td>\n",
              "      <td>0</td>\n",
              "      <td>0</td>\n",
              "      <td>0</td>\n",
              "      <td>...</td>\n",
              "      <td>0</td>\n",
              "      <td>0</td>\n",
              "      <td>0</td>\n",
              "      <td>0</td>\n",
              "      <td>0</td>\n",
              "      <td>0</td>\n",
              "      <td>0</td>\n",
              "      <td>0</td>\n",
              "      <td>0</td>\n",
              "      <td>0</td>\n",
              "    </tr>\n",
              "    <tr>\n",
              "      <th>3</th>\n",
              "      <td>21</td>\n",
              "      <td>rs544748596</td>\n",
              "      <td>0</td>\n",
              "      <td>0</td>\n",
              "      <td>0</td>\n",
              "      <td>0</td>\n",
              "      <td>0</td>\n",
              "      <td>0</td>\n",
              "      <td>0</td>\n",
              "      <td>0</td>\n",
              "      <td>...</td>\n",
              "      <td>0</td>\n",
              "      <td>0</td>\n",
              "      <td>0</td>\n",
              "      <td>0</td>\n",
              "      <td>0</td>\n",
              "      <td>0</td>\n",
              "      <td>0</td>\n",
              "      <td>0</td>\n",
              "      <td>0</td>\n",
              "      <td>0</td>\n",
              "    </tr>\n",
              "    <tr>\n",
              "      <th>4</th>\n",
              "      <td>21</td>\n",
              "      <td>rs528236937</td>\n",
              "      <td>0</td>\n",
              "      <td>0</td>\n",
              "      <td>0</td>\n",
              "      <td>0</td>\n",
              "      <td>0</td>\n",
              "      <td>0</td>\n",
              "      <td>0</td>\n",
              "      <td>0</td>\n",
              "      <td>...</td>\n",
              "      <td>0</td>\n",
              "      <td>0</td>\n",
              "      <td>0</td>\n",
              "      <td>0</td>\n",
              "      <td>0</td>\n",
              "      <td>0</td>\n",
              "      <td>0</td>\n",
              "      <td>0</td>\n",
              "      <td>0</td>\n",
              "      <td>0</td>\n",
              "    </tr>\n",
              "    <tr>\n",
              "      <th>...</th>\n",
              "      <td>...</td>\n",
              "      <td>...</td>\n",
              "      <td>...</td>\n",
              "      <td>...</td>\n",
              "      <td>...</td>\n",
              "      <td>...</td>\n",
              "      <td>...</td>\n",
              "      <td>...</td>\n",
              "      <td>...</td>\n",
              "      <td>...</td>\n",
              "      <td>...</td>\n",
              "      <td>...</td>\n",
              "      <td>...</td>\n",
              "      <td>...</td>\n",
              "      <td>...</td>\n",
              "      <td>...</td>\n",
              "      <td>...</td>\n",
              "      <td>...</td>\n",
              "      <td>...</td>\n",
              "      <td>...</td>\n",
              "      <td>...</td>\n",
              "    </tr>\n",
              "    <tr>\n",
              "      <th>138707</th>\n",
              "      <td>21</td>\n",
              "      <td>rs11910421</td>\n",
              "      <td>0</td>\n",
              "      <td>0</td>\n",
              "      <td>0</td>\n",
              "      <td>0</td>\n",
              "      <td>0</td>\n",
              "      <td>0</td>\n",
              "      <td>0</td>\n",
              "      <td>0</td>\n",
              "      <td>...</td>\n",
              "      <td>0</td>\n",
              "      <td>0</td>\n",
              "      <td>0</td>\n",
              "      <td>0</td>\n",
              "      <td>0</td>\n",
              "      <td>0</td>\n",
              "      <td>0</td>\n",
              "      <td>0</td>\n",
              "      <td>0</td>\n",
              "      <td>0</td>\n",
              "    </tr>\n",
              "    <tr>\n",
              "      <th>138708</th>\n",
              "      <td>21</td>\n",
              "      <td>rs559373972</td>\n",
              "      <td>0</td>\n",
              "      <td>0</td>\n",
              "      <td>0</td>\n",
              "      <td>0</td>\n",
              "      <td>0</td>\n",
              "      <td>0</td>\n",
              "      <td>0</td>\n",
              "      <td>0</td>\n",
              "      <td>...</td>\n",
              "      <td>0</td>\n",
              "      <td>0</td>\n",
              "      <td>0</td>\n",
              "      <td>0</td>\n",
              "      <td>0</td>\n",
              "      <td>0</td>\n",
              "      <td>0</td>\n",
              "      <td>0</td>\n",
              "      <td>0</td>\n",
              "      <td>0</td>\n",
              "    </tr>\n",
              "    <tr>\n",
              "      <th>138709</th>\n",
              "      <td>21</td>\n",
              "      <td>rs533222456</td>\n",
              "      <td>0</td>\n",
              "      <td>0</td>\n",
              "      <td>0</td>\n",
              "      <td>0</td>\n",
              "      <td>0</td>\n",
              "      <td>0</td>\n",
              "      <td>0</td>\n",
              "      <td>0</td>\n",
              "      <td>...</td>\n",
              "      <td>0</td>\n",
              "      <td>0</td>\n",
              "      <td>0</td>\n",
              "      <td>0</td>\n",
              "      <td>0</td>\n",
              "      <td>0</td>\n",
              "      <td>0</td>\n",
              "      <td>0</td>\n",
              "      <td>0</td>\n",
              "      <td>0</td>\n",
              "    </tr>\n",
              "    <tr>\n",
              "      <th>138710</th>\n",
              "      <td>21</td>\n",
              "      <td>rs199868906</td>\n",
              "      <td>0</td>\n",
              "      <td>0</td>\n",
              "      <td>0</td>\n",
              "      <td>0</td>\n",
              "      <td>0</td>\n",
              "      <td>0</td>\n",
              "      <td>0</td>\n",
              "      <td>0</td>\n",
              "      <td>...</td>\n",
              "      <td>0</td>\n",
              "      <td>0</td>\n",
              "      <td>0</td>\n",
              "      <td>0</td>\n",
              "      <td>0</td>\n",
              "      <td>0</td>\n",
              "      <td>0</td>\n",
              "      <td>0</td>\n",
              "      <td>0</td>\n",
              "      <td>0</td>\n",
              "    </tr>\n",
              "    <tr>\n",
              "      <th>138711</th>\n",
              "      <td>21</td>\n",
              "      <td>rs374001814</td>\n",
              "      <td>0</td>\n",
              "      <td>0</td>\n",
              "      <td>0</td>\n",
              "      <td>0</td>\n",
              "      <td>0</td>\n",
              "      <td>0</td>\n",
              "      <td>0</td>\n",
              "      <td>0</td>\n",
              "      <td>...</td>\n",
              "      <td>0</td>\n",
              "      <td>0</td>\n",
              "      <td>0</td>\n",
              "      <td>0</td>\n",
              "      <td>0</td>\n",
              "      <td>0</td>\n",
              "      <td>0</td>\n",
              "      <td>0</td>\n",
              "      <td>0</td>\n",
              "      <td>0</td>\n",
              "    </tr>\n",
              "  </tbody>\n",
              "</table>\n",
              "<p>138712 rows × 98 columns</p>\n",
              "</div>\n",
              "      <button class=\"colab-df-convert\" onclick=\"convertToInteractive('df-d79cd442-5676-424f-9554-79fddf778aac')\"\n",
              "              title=\"Convert this dataframe to an interactive table.\"\n",
              "              style=\"display:none;\">\n",
              "        \n",
              "  <svg xmlns=\"http://www.w3.org/2000/svg\" height=\"24px\"viewBox=\"0 0 24 24\"\n",
              "       width=\"24px\">\n",
              "    <path d=\"M0 0h24v24H0V0z\" fill=\"none\"/>\n",
              "    <path d=\"M18.56 5.44l.94 2.06.94-2.06 2.06-.94-2.06-.94-.94-2.06-.94 2.06-2.06.94zm-11 1L8.5 8.5l.94-2.06 2.06-.94-2.06-.94L8.5 2.5l-.94 2.06-2.06.94zm10 10l.94 2.06.94-2.06 2.06-.94-2.06-.94-.94-2.06-.94 2.06-2.06.94z\"/><path d=\"M17.41 7.96l-1.37-1.37c-.4-.4-.92-.59-1.43-.59-.52 0-1.04.2-1.43.59L10.3 9.45l-7.72 7.72c-.78.78-.78 2.05 0 2.83L4 21.41c.39.39.9.59 1.41.59.51 0 1.02-.2 1.41-.59l7.78-7.78 2.81-2.81c.8-.78.8-2.07 0-2.86zM5.41 20L4 18.59l7.72-7.72 1.47 1.35L5.41 20z\"/>\n",
              "  </svg>\n",
              "      </button>\n",
              "      \n",
              "  <style>\n",
              "    .colab-df-container {\n",
              "      display:flex;\n",
              "      flex-wrap:wrap;\n",
              "      gap: 12px;\n",
              "    }\n",
              "\n",
              "    .colab-df-convert {\n",
              "      background-color: #E8F0FE;\n",
              "      border: none;\n",
              "      border-radius: 50%;\n",
              "      cursor: pointer;\n",
              "      display: none;\n",
              "      fill: #1967D2;\n",
              "      height: 32px;\n",
              "      padding: 0 0 0 0;\n",
              "      width: 32px;\n",
              "    }\n",
              "\n",
              "    .colab-df-convert:hover {\n",
              "      background-color: #E2EBFA;\n",
              "      box-shadow: 0px 1px 2px rgba(60, 64, 67, 0.3), 0px 1px 3px 1px rgba(60, 64, 67, 0.15);\n",
              "      fill: #174EA6;\n",
              "    }\n",
              "\n",
              "    [theme=dark] .colab-df-convert {\n",
              "      background-color: #3B4455;\n",
              "      fill: #D2E3FC;\n",
              "    }\n",
              "\n",
              "    [theme=dark] .colab-df-convert:hover {\n",
              "      background-color: #434B5C;\n",
              "      box-shadow: 0px 1px 3px 1px rgba(0, 0, 0, 0.15);\n",
              "      filter: drop-shadow(0px 1px 2px rgba(0, 0, 0, 0.3));\n",
              "      fill: #FFFFFF;\n",
              "    }\n",
              "  </style>\n",
              "\n",
              "      <script>\n",
              "        const buttonEl =\n",
              "          document.querySelector('#df-d79cd442-5676-424f-9554-79fddf778aac button.colab-df-convert');\n",
              "        buttonEl.style.display =\n",
              "          google.colab.kernel.accessAllowed ? 'block' : 'none';\n",
              "\n",
              "        async function convertToInteractive(key) {\n",
              "          const element = document.querySelector('#df-d79cd442-5676-424f-9554-79fddf778aac');\n",
              "          const dataTable =\n",
              "            await google.colab.kernel.invokeFunction('convertToInteractive',\n",
              "                                                     [key], {});\n",
              "          if (!dataTable) return;\n",
              "\n",
              "          const docLinkHtml = 'Like what you see? Visit the ' +\n",
              "            '<a target=\"_blank\" href=https://colab.research.google.com/notebooks/data_table.ipynb>data table notebook</a>'\n",
              "            + ' to learn more about interactive tables.';\n",
              "          element.innerHTML = '';\n",
              "          dataTable['output_type'] = 'display_data';\n",
              "          await google.colab.output.renderOutput(dataTable, element);\n",
              "          const docLink = document.createElement('div');\n",
              "          docLink.innerHTML = docLinkHtml;\n",
              "          element.appendChild(docLink);\n",
              "        }\n",
              "      </script>\n",
              "    </div>\n",
              "  </div>\n",
              "  "
            ]
          },
          "metadata": {},
          "execution_count": 9
        }
      ]
    },
    {
      "cell_type": "code",
      "source": [
        "annotation_22 = annotation_22.drop([\"BP\", \"CM\", \"base\"], axis = 1)\n",
        "annotation_22"
      ],
      "metadata": {
        "colab": {
          "base_uri": "https://localhost:8080/"
        },
        "id": "8u4VCHx5FKCX",
        "outputId": "0d671c6f-104d-4007-ede0-87cbc35bccc4"
      },
      "execution_count": null,
      "outputs": [
        {
          "output_type": "execute_result",
          "data": {
            "text/plain": [
              "        CHR          SNP  Coding_UCSC  Coding_UCSC.flanking.500  \\\n",
              "0        22  rs587616822            0                         0   \n",
              "1        22   rs62224609            0                         0   \n",
              "2        22  rs587646183            0                         0   \n",
              "3        22  rs139918843            0                         0   \n",
              "4        22  rs587743102            0                         0   \n",
              "...     ...          ...          ...                       ...   \n",
              "141118   22  rs370652263            0                         0   \n",
              "141119   22  rs541098394            0                         0   \n",
              "141120   22  rs202228854            0                         0   \n",
              "141121   22  rs568168135            0                         0   \n",
              "141122   22  rs575160859            0                         0   \n",
              "\n",
              "        Conserved_LindbladToh  Conserved_LindbladToh.flanking.500  \\\n",
              "0                           0                                   0   \n",
              "1                           0                                   0   \n",
              "2                           0                                   0   \n",
              "3                           0                                   0   \n",
              "4                           0                                   0   \n",
              "...                       ...                                 ...   \n",
              "141118                      0                                   0   \n",
              "141119                      0                                   0   \n",
              "141120                      0                                   0   \n",
              "141121                      0                                   0   \n",
              "141122                      0                                   0   \n",
              "\n",
              "        CTCF_Hoffman  CTCF_Hoffman.flanking.500  DGF_ENCODE  \\\n",
              "0                  0                          0           0   \n",
              "1                  0                          0           1   \n",
              "2                  0                          0           0   \n",
              "3                  0                          0           0   \n",
              "4                  0                          0           0   \n",
              "...              ...                        ...         ...   \n",
              "141118             0                          0           0   \n",
              "141119             0                          0           1   \n",
              "141120             0                          0           0   \n",
              "141121             0                          0           0   \n",
              "141122             0                          0           0   \n",
              "\n",
              "        DGF_ENCODE.flanking.500  ...  Human_Promoter_Villar.flanking.500  \\\n",
              "0                             1  ...                                   0   \n",
              "1                             0  ...                                   0   \n",
              "2                             0  ...                                   0   \n",
              "3                             0  ...                                   0   \n",
              "4                             0  ...                                   0   \n",
              "...                         ...  ...                                 ...   \n",
              "141118                        0  ...                                   0   \n",
              "141119                        0  ...                                   0   \n",
              "141120                        0  ...                                   0   \n",
              "141121                        0  ...                                   0   \n",
              "141122                        0  ...                                   0   \n",
              "\n",
              "        Human_Enhancer_Villar  Human_Enhancer_Villar.flanking.500  \\\n",
              "0                           0                                   0   \n",
              "1                           0                                   0   \n",
              "2                           0                                   0   \n",
              "3                           0                                   0   \n",
              "4                           0                                   0   \n",
              "...                       ...                                 ...   \n",
              "141118                      0                                   0   \n",
              "141119                      0                                   0   \n",
              "141120                      0                                   0   \n",
              "141121                      0                                   0   \n",
              "141122                      0                                   0   \n",
              "\n",
              "        Ancient_Sequence_Age_Human_Promoter  \\\n",
              "0                                         0   \n",
              "1                                         0   \n",
              "2                                         0   \n",
              "3                                         0   \n",
              "4                                         0   \n",
              "...                                     ...   \n",
              "141118                                    0   \n",
              "141119                                    0   \n",
              "141120                                    0   \n",
              "141121                                    0   \n",
              "141122                                    0   \n",
              "\n",
              "        Ancient_Sequence_Age_Human_Promoter.flanking.500  \\\n",
              "0                                                      0   \n",
              "1                                                      0   \n",
              "2                                                      0   \n",
              "3                                                      0   \n",
              "4                                                      0   \n",
              "...                                                  ...   \n",
              "141118                                                 0   \n",
              "141119                                                 0   \n",
              "141120                                                 0   \n",
              "141121                                                 0   \n",
              "141122                                                 0   \n",
              "\n",
              "        Ancient_Sequence_Age_Human_Enhancer  \\\n",
              "0                                         0   \n",
              "1                                         0   \n",
              "2                                         0   \n",
              "3                                         0   \n",
              "4                                         0   \n",
              "...                                     ...   \n",
              "141118                                    0   \n",
              "141119                                    0   \n",
              "141120                                    0   \n",
              "141121                                    0   \n",
              "141122                                    0   \n",
              "\n",
              "        Ancient_Sequence_Age_Human_Enhancer.flanking.500  \\\n",
              "0                                                      0   \n",
              "1                                                      0   \n",
              "2                                                      0   \n",
              "3                                                      0   \n",
              "4                                                      0   \n",
              "...                                                  ...   \n",
              "141118                                                 0   \n",
              "141119                                                 0   \n",
              "141120                                                 0   \n",
              "141121                                                 0   \n",
              "141122                                                 0   \n",
              "\n",
              "        Human_Enhancer_Villar_Species_Enhancer_Count  \\\n",
              "0                                                  0   \n",
              "1                                                  0   \n",
              "2                                                  0   \n",
              "3                                                  0   \n",
              "4                                                  0   \n",
              "...                                              ...   \n",
              "141118                                             0   \n",
              "141119                                             0   \n",
              "141120                                             0   \n",
              "141121                                             0   \n",
              "141122                                             0   \n",
              "\n",
              "        Human_Promoter_Villar_ExAC  Human_Promoter_Villar_ExAC.flanking.500  \n",
              "0                                0                                        0  \n",
              "1                                0                                        0  \n",
              "2                                0                                        0  \n",
              "3                                0                                        0  \n",
              "4                                0                                        0  \n",
              "...                            ...                                      ...  \n",
              "141118                           0                                        0  \n",
              "141119                           0                                        0  \n",
              "141120                           0                                        0  \n",
              "141121                           0                                        0  \n",
              "141122                           0                                        0  \n",
              "\n",
              "[141123 rows x 98 columns]"
            ],
            "text/html": [
              "\n",
              "  <div id=\"df-12e38cc3-699d-48bb-a3ba-52df8d571e20\">\n",
              "    <div class=\"colab-df-container\">\n",
              "      <div>\n",
              "<style scoped>\n",
              "    .dataframe tbody tr th:only-of-type {\n",
              "        vertical-align: middle;\n",
              "    }\n",
              "\n",
              "    .dataframe tbody tr th {\n",
              "        vertical-align: top;\n",
              "    }\n",
              "\n",
              "    .dataframe thead th {\n",
              "        text-align: right;\n",
              "    }\n",
              "</style>\n",
              "<table border=\"1\" class=\"dataframe\">\n",
              "  <thead>\n",
              "    <tr style=\"text-align: right;\">\n",
              "      <th></th>\n",
              "      <th>CHR</th>\n",
              "      <th>SNP</th>\n",
              "      <th>Coding_UCSC</th>\n",
              "      <th>Coding_UCSC.flanking.500</th>\n",
              "      <th>Conserved_LindbladToh</th>\n",
              "      <th>Conserved_LindbladToh.flanking.500</th>\n",
              "      <th>CTCF_Hoffman</th>\n",
              "      <th>CTCF_Hoffman.flanking.500</th>\n",
              "      <th>DGF_ENCODE</th>\n",
              "      <th>DGF_ENCODE.flanking.500</th>\n",
              "      <th>...</th>\n",
              "      <th>Human_Promoter_Villar.flanking.500</th>\n",
              "      <th>Human_Enhancer_Villar</th>\n",
              "      <th>Human_Enhancer_Villar.flanking.500</th>\n",
              "      <th>Ancient_Sequence_Age_Human_Promoter</th>\n",
              "      <th>Ancient_Sequence_Age_Human_Promoter.flanking.500</th>\n",
              "      <th>Ancient_Sequence_Age_Human_Enhancer</th>\n",
              "      <th>Ancient_Sequence_Age_Human_Enhancer.flanking.500</th>\n",
              "      <th>Human_Enhancer_Villar_Species_Enhancer_Count</th>\n",
              "      <th>Human_Promoter_Villar_ExAC</th>\n",
              "      <th>Human_Promoter_Villar_ExAC.flanking.500</th>\n",
              "    </tr>\n",
              "  </thead>\n",
              "  <tbody>\n",
              "    <tr>\n",
              "      <th>0</th>\n",
              "      <td>22</td>\n",
              "      <td>rs587616822</td>\n",
              "      <td>0</td>\n",
              "      <td>0</td>\n",
              "      <td>0</td>\n",
              "      <td>0</td>\n",
              "      <td>0</td>\n",
              "      <td>0</td>\n",
              "      <td>0</td>\n",
              "      <td>1</td>\n",
              "      <td>...</td>\n",
              "      <td>0</td>\n",
              "      <td>0</td>\n",
              "      <td>0</td>\n",
              "      <td>0</td>\n",
              "      <td>0</td>\n",
              "      <td>0</td>\n",
              "      <td>0</td>\n",
              "      <td>0</td>\n",
              "      <td>0</td>\n",
              "      <td>0</td>\n",
              "    </tr>\n",
              "    <tr>\n",
              "      <th>1</th>\n",
              "      <td>22</td>\n",
              "      <td>rs62224609</td>\n",
              "      <td>0</td>\n",
              "      <td>0</td>\n",
              "      <td>0</td>\n",
              "      <td>0</td>\n",
              "      <td>0</td>\n",
              "      <td>0</td>\n",
              "      <td>1</td>\n",
              "      <td>0</td>\n",
              "      <td>...</td>\n",
              "      <td>0</td>\n",
              "      <td>0</td>\n",
              "      <td>0</td>\n",
              "      <td>0</td>\n",
              "      <td>0</td>\n",
              "      <td>0</td>\n",
              "      <td>0</td>\n",
              "      <td>0</td>\n",
              "      <td>0</td>\n",
              "      <td>0</td>\n",
              "    </tr>\n",
              "    <tr>\n",
              "      <th>2</th>\n",
              "      <td>22</td>\n",
              "      <td>rs587646183</td>\n",
              "      <td>0</td>\n",
              "      <td>0</td>\n",
              "      <td>0</td>\n",
              "      <td>0</td>\n",
              "      <td>0</td>\n",
              "      <td>0</td>\n",
              "      <td>0</td>\n",
              "      <td>0</td>\n",
              "      <td>...</td>\n",
              "      <td>0</td>\n",
              "      <td>0</td>\n",
              "      <td>0</td>\n",
              "      <td>0</td>\n",
              "      <td>0</td>\n",
              "      <td>0</td>\n",
              "      <td>0</td>\n",
              "      <td>0</td>\n",
              "      <td>0</td>\n",
              "      <td>0</td>\n",
              "    </tr>\n",
              "    <tr>\n",
              "      <th>3</th>\n",
              "      <td>22</td>\n",
              "      <td>rs139918843</td>\n",
              "      <td>0</td>\n",
              "      <td>0</td>\n",
              "      <td>0</td>\n",
              "      <td>0</td>\n",
              "      <td>0</td>\n",
              "      <td>0</td>\n",
              "      <td>0</td>\n",
              "      <td>0</td>\n",
              "      <td>...</td>\n",
              "      <td>0</td>\n",
              "      <td>0</td>\n",
              "      <td>0</td>\n",
              "      <td>0</td>\n",
              "      <td>0</td>\n",
              "      <td>0</td>\n",
              "      <td>0</td>\n",
              "      <td>0</td>\n",
              "      <td>0</td>\n",
              "      <td>0</td>\n",
              "    </tr>\n",
              "    <tr>\n",
              "      <th>4</th>\n",
              "      <td>22</td>\n",
              "      <td>rs587743102</td>\n",
              "      <td>0</td>\n",
              "      <td>0</td>\n",
              "      <td>0</td>\n",
              "      <td>0</td>\n",
              "      <td>0</td>\n",
              "      <td>0</td>\n",
              "      <td>0</td>\n",
              "      <td>0</td>\n",
              "      <td>...</td>\n",
              "      <td>0</td>\n",
              "      <td>0</td>\n",
              "      <td>0</td>\n",
              "      <td>0</td>\n",
              "      <td>0</td>\n",
              "      <td>0</td>\n",
              "      <td>0</td>\n",
              "      <td>0</td>\n",
              "      <td>0</td>\n",
              "      <td>0</td>\n",
              "    </tr>\n",
              "    <tr>\n",
              "      <th>...</th>\n",
              "      <td>...</td>\n",
              "      <td>...</td>\n",
              "      <td>...</td>\n",
              "      <td>...</td>\n",
              "      <td>...</td>\n",
              "      <td>...</td>\n",
              "      <td>...</td>\n",
              "      <td>...</td>\n",
              "      <td>...</td>\n",
              "      <td>...</td>\n",
              "      <td>...</td>\n",
              "      <td>...</td>\n",
              "      <td>...</td>\n",
              "      <td>...</td>\n",
              "      <td>...</td>\n",
              "      <td>...</td>\n",
              "      <td>...</td>\n",
              "      <td>...</td>\n",
              "      <td>...</td>\n",
              "      <td>...</td>\n",
              "      <td>...</td>\n",
              "    </tr>\n",
              "    <tr>\n",
              "      <th>141118</th>\n",
              "      <td>22</td>\n",
              "      <td>rs370652263</td>\n",
              "      <td>0</td>\n",
              "      <td>0</td>\n",
              "      <td>0</td>\n",
              "      <td>0</td>\n",
              "      <td>0</td>\n",
              "      <td>0</td>\n",
              "      <td>0</td>\n",
              "      <td>0</td>\n",
              "      <td>...</td>\n",
              "      <td>0</td>\n",
              "      <td>0</td>\n",
              "      <td>0</td>\n",
              "      <td>0</td>\n",
              "      <td>0</td>\n",
              "      <td>0</td>\n",
              "      <td>0</td>\n",
              "      <td>0</td>\n",
              "      <td>0</td>\n",
              "      <td>0</td>\n",
              "    </tr>\n",
              "    <tr>\n",
              "      <th>141119</th>\n",
              "      <td>22</td>\n",
              "      <td>rs541098394</td>\n",
              "      <td>0</td>\n",
              "      <td>0</td>\n",
              "      <td>0</td>\n",
              "      <td>0</td>\n",
              "      <td>0</td>\n",
              "      <td>0</td>\n",
              "      <td>1</td>\n",
              "      <td>0</td>\n",
              "      <td>...</td>\n",
              "      <td>0</td>\n",
              "      <td>0</td>\n",
              "      <td>0</td>\n",
              "      <td>0</td>\n",
              "      <td>0</td>\n",
              "      <td>0</td>\n",
              "      <td>0</td>\n",
              "      <td>0</td>\n",
              "      <td>0</td>\n",
              "      <td>0</td>\n",
              "    </tr>\n",
              "    <tr>\n",
              "      <th>141120</th>\n",
              "      <td>22</td>\n",
              "      <td>rs202228854</td>\n",
              "      <td>0</td>\n",
              "      <td>0</td>\n",
              "      <td>0</td>\n",
              "      <td>0</td>\n",
              "      <td>0</td>\n",
              "      <td>0</td>\n",
              "      <td>0</td>\n",
              "      <td>0</td>\n",
              "      <td>...</td>\n",
              "      <td>0</td>\n",
              "      <td>0</td>\n",
              "      <td>0</td>\n",
              "      <td>0</td>\n",
              "      <td>0</td>\n",
              "      <td>0</td>\n",
              "      <td>0</td>\n",
              "      <td>0</td>\n",
              "      <td>0</td>\n",
              "      <td>0</td>\n",
              "    </tr>\n",
              "    <tr>\n",
              "      <th>141121</th>\n",
              "      <td>22</td>\n",
              "      <td>rs568168135</td>\n",
              "      <td>0</td>\n",
              "      <td>0</td>\n",
              "      <td>0</td>\n",
              "      <td>0</td>\n",
              "      <td>0</td>\n",
              "      <td>0</td>\n",
              "      <td>0</td>\n",
              "      <td>0</td>\n",
              "      <td>...</td>\n",
              "      <td>0</td>\n",
              "      <td>0</td>\n",
              "      <td>0</td>\n",
              "      <td>0</td>\n",
              "      <td>0</td>\n",
              "      <td>0</td>\n",
              "      <td>0</td>\n",
              "      <td>0</td>\n",
              "      <td>0</td>\n",
              "      <td>0</td>\n",
              "    </tr>\n",
              "    <tr>\n",
              "      <th>141122</th>\n",
              "      <td>22</td>\n",
              "      <td>rs575160859</td>\n",
              "      <td>0</td>\n",
              "      <td>0</td>\n",
              "      <td>0</td>\n",
              "      <td>0</td>\n",
              "      <td>0</td>\n",
              "      <td>0</td>\n",
              "      <td>0</td>\n",
              "      <td>0</td>\n",
              "      <td>...</td>\n",
              "      <td>0</td>\n",
              "      <td>0</td>\n",
              "      <td>0</td>\n",
              "      <td>0</td>\n",
              "      <td>0</td>\n",
              "      <td>0</td>\n",
              "      <td>0</td>\n",
              "      <td>0</td>\n",
              "      <td>0</td>\n",
              "      <td>0</td>\n",
              "    </tr>\n",
              "  </tbody>\n",
              "</table>\n",
              "<p>141123 rows × 98 columns</p>\n",
              "</div>\n",
              "      <button class=\"colab-df-convert\" onclick=\"convertToInteractive('df-12e38cc3-699d-48bb-a3ba-52df8d571e20')\"\n",
              "              title=\"Convert this dataframe to an interactive table.\"\n",
              "              style=\"display:none;\">\n",
              "        \n",
              "  <svg xmlns=\"http://www.w3.org/2000/svg\" height=\"24px\"viewBox=\"0 0 24 24\"\n",
              "       width=\"24px\">\n",
              "    <path d=\"M0 0h24v24H0V0z\" fill=\"none\"/>\n",
              "    <path d=\"M18.56 5.44l.94 2.06.94-2.06 2.06-.94-2.06-.94-.94-2.06-.94 2.06-2.06.94zm-11 1L8.5 8.5l.94-2.06 2.06-.94-2.06-.94L8.5 2.5l-.94 2.06-2.06.94zm10 10l.94 2.06.94-2.06 2.06-.94-2.06-.94-.94-2.06-.94 2.06-2.06.94z\"/><path d=\"M17.41 7.96l-1.37-1.37c-.4-.4-.92-.59-1.43-.59-.52 0-1.04.2-1.43.59L10.3 9.45l-7.72 7.72c-.78.78-.78 2.05 0 2.83L4 21.41c.39.39.9.59 1.41.59.51 0 1.02-.2 1.41-.59l7.78-7.78 2.81-2.81c.8-.78.8-2.07 0-2.86zM5.41 20L4 18.59l7.72-7.72 1.47 1.35L5.41 20z\"/>\n",
              "  </svg>\n",
              "      </button>\n",
              "      \n",
              "  <style>\n",
              "    .colab-df-container {\n",
              "      display:flex;\n",
              "      flex-wrap:wrap;\n",
              "      gap: 12px;\n",
              "    }\n",
              "\n",
              "    .colab-df-convert {\n",
              "      background-color: #E8F0FE;\n",
              "      border: none;\n",
              "      border-radius: 50%;\n",
              "      cursor: pointer;\n",
              "      display: none;\n",
              "      fill: #1967D2;\n",
              "      height: 32px;\n",
              "      padding: 0 0 0 0;\n",
              "      width: 32px;\n",
              "    }\n",
              "\n",
              "    .colab-df-convert:hover {\n",
              "      background-color: #E2EBFA;\n",
              "      box-shadow: 0px 1px 2px rgba(60, 64, 67, 0.3), 0px 1px 3px 1px rgba(60, 64, 67, 0.15);\n",
              "      fill: #174EA6;\n",
              "    }\n",
              "\n",
              "    [theme=dark] .colab-df-convert {\n",
              "      background-color: #3B4455;\n",
              "      fill: #D2E3FC;\n",
              "    }\n",
              "\n",
              "    [theme=dark] .colab-df-convert:hover {\n",
              "      background-color: #434B5C;\n",
              "      box-shadow: 0px 1px 3px 1px rgba(0, 0, 0, 0.15);\n",
              "      filter: drop-shadow(0px 1px 2px rgba(0, 0, 0, 0.3));\n",
              "      fill: #FFFFFF;\n",
              "    }\n",
              "  </style>\n",
              "\n",
              "      <script>\n",
              "        const buttonEl =\n",
              "          document.querySelector('#df-12e38cc3-699d-48bb-a3ba-52df8d571e20 button.colab-df-convert');\n",
              "        buttonEl.style.display =\n",
              "          google.colab.kernel.accessAllowed ? 'block' : 'none';\n",
              "\n",
              "        async function convertToInteractive(key) {\n",
              "          const element = document.querySelector('#df-12e38cc3-699d-48bb-a3ba-52df8d571e20');\n",
              "          const dataTable =\n",
              "            await google.colab.kernel.invokeFunction('convertToInteractive',\n",
              "                                                     [key], {});\n",
              "          if (!dataTable) return;\n",
              "\n",
              "          const docLinkHtml = 'Like what you see? Visit the ' +\n",
              "            '<a target=\"_blank\" href=https://colab.research.google.com/notebooks/data_table.ipynb>data table notebook</a>'\n",
              "            + ' to learn more about interactive tables.';\n",
              "          element.innerHTML = '';\n",
              "          dataTable['output_type'] = 'display_data';\n",
              "          await google.colab.output.renderOutput(dataTable, element);\n",
              "          const docLink = document.createElement('div');\n",
              "          docLink.innerHTML = docLinkHtml;\n",
              "          element.appendChild(docLink);\n",
              "        }\n",
              "      </script>\n",
              "    </div>\n",
              "  </div>\n",
              "  "
            ]
          },
          "metadata": {},
          "execution_count": 10
        }
      ]
    },
    {
      "cell_type": "markdown",
      "source": [
        "# 1 VIPRS"
      ],
      "metadata": {
        "id": "Do6qI1LUQRey"
      }
    },
    {
      "cell_type": "markdown",
      "source": [
        "## CHR_21"
      ],
      "metadata": {
        "id": "xNI1JAeLi0lm"
      }
    },
    {
      "cell_type": "code",
      "source": [
        "prs_list_21 = []\n",
        "# Initialize VIPRS, passing it the GWADataLoader object\n",
        "v1 = vp.VIPRS(gdl_21_train_fold_1)\n",
        "# Invoke the .fit() method to obtain posterior estimates\n",
        "v1.fit()\n",
        "test_prs_1 = v1.pseudo_validate(validation_gdl = gdl_21_test_fold_1)\n",
        "prs_list_21.append(test_prs_1)\n",
        "\n",
        "v2 = vp.VIPRS(gdl_21_train_fold_2)\n",
        "v2.fit()\n",
        "test_prs_2 = v2.pseudo_validate(validation_gdl = gdl_21_test_fold_2)\n",
        "prs_list_21.append(test_prs_2)\n",
        "\n",
        "v3 = vp.VIPRS(gdl_21_train_fold_3)\n",
        "v3.fit()\n",
        "test_prs_3 = v3.pseudo_validate(validation_gdl = gdl_21_test_fold_3)\n",
        "prs_list_21.append(test_prs_3)\n",
        "\n",
        "v4 = vp.VIPRS(gdl_21_train_fold_4)\n",
        "v4.fit()\n",
        "test_prs_4 = v4.pseudo_validate(validation_gdl = gdl_21_test_fold_4)\n",
        "prs_list_21.append(test_prs_4)\n",
        "\n",
        "v5 = vp.VIPRS(gdl_21_train_fold_5)\n",
        "v5.fit()\n",
        "test_prs_5 = v5.pseudo_validate(validation_gdl = gdl_21_test_fold_5)\n",
        "prs_list_21.append(test_prs_5)"
      ],
      "metadata": {
        "id": "6qXBJ7nRiXKQ",
        "colab": {
          "base_uri": "https://localhost:8080/"
        },
        "outputId": "7439763c-cc9a-4f82-e8f5-234f7f813130"
      },
      "execution_count": null,
      "outputs": [
        {
          "output_type": "stream",
          "name": "stdout",
          "text": [
            "> Initializing model parameters\n",
            "> Loading LD matrices into memory...\n",
            "> Performing model fit...\n",
            "> Using up to 1 threads.\n"
          ]
        },
        {
          "output_type": "stream",
          "name": "stderr",
          "text": [
            " 14%|█▍        | 142/1000 [00:18<01:50,  7.73it/s]\n"
          ]
        },
        {
          "output_type": "stream",
          "name": "stdout",
          "text": [
            "Converged at iteration 143 || ELBO: -343516.383723\n",
            "> Final ELBO: -343516.383723\n",
            "> Estimated heritability: 0.003288\n",
            "> Estimated proportion of causal variants: 0.006448\n",
            "> Initializing model parameters\n",
            "> Loading LD matrices into memory...\n",
            "> Performing model fit...\n",
            "> Using up to 1 threads.\n"
          ]
        },
        {
          "output_type": "stream",
          "name": "stderr",
          "text": [
            "  3%|▎         | 34/1000 [00:03<01:45,  9.12it/s]\n"
          ]
        },
        {
          "output_type": "stream",
          "name": "stdout",
          "text": [
            "Converged at iteration 35 || ELBO: -343501.028140\n",
            "> Final ELBO: -343501.028140\n",
            "> Estimated heritability: 0.003715\n",
            "> Estimated proportion of causal variants: 0.006604\n",
            "> Initializing model parameters\n",
            "> Loading LD matrices into memory...\n",
            "> Performing model fit...\n",
            "> Using up to 1 threads.\n"
          ]
        },
        {
          "output_type": "stream",
          "name": "stderr",
          "text": [
            "  4%|▍         | 41/1000 [00:03<01:33, 10.27it/s]\n"
          ]
        },
        {
          "output_type": "stream",
          "name": "stdout",
          "text": [
            "Converged at iteration 42 || ELBO: -343497.082210\n",
            "> Final ELBO: -343497.082210\n",
            "> Estimated heritability: 0.003754\n",
            "> Estimated proportion of causal variants: 0.006867\n",
            "> Initializing model parameters\n",
            "> Loading LD matrices into memory...\n",
            "> Performing model fit...\n",
            "> Using up to 1 threads.\n"
          ]
        },
        {
          "output_type": "stream",
          "name": "stderr",
          "text": [
            " 16%|█▌        | 159/1000 [00:19<01:43,  8.14it/s]\n"
          ]
        },
        {
          "output_type": "stream",
          "name": "stdout",
          "text": [
            "Converged at iteration 160 || ELBO: -343503.885821\n",
            "> Final ELBO: -343503.885821\n",
            "> Estimated heritability: 0.003790\n",
            "> Estimated proportion of causal variants: 0.008841\n",
            "> Initializing model parameters\n",
            "> Loading LD matrices into memory...\n",
            "> Performing model fit...\n",
            "> Using up to 1 threads.\n"
          ]
        },
        {
          "output_type": "stream",
          "name": "stderr",
          "text": [
            "  4%|▍         | 41/1000 [00:05<02:16,  7.05it/s]\n"
          ]
        },
        {
          "output_type": "stream",
          "name": "stdout",
          "text": [
            "Converged at iteration 42 || ELBO: -343509.781362\n",
            "> Final ELBO: -343509.781362\n",
            "> Estimated heritability: 0.003432\n",
            "> Estimated proportion of causal variants: 0.005992\n"
          ]
        }
      ]
    },
    {
      "cell_type": "code",
      "source": [
        "prs_list_21"
      ],
      "metadata": {
        "id": "80XFhLEUBiDT",
        "colab": {
          "base_uri": "https://localhost:8080/"
        },
        "outputId": "906cc5d2-aa68-4d08-fd35-8686842f41b2"
      },
      "execution_count": null,
      "outputs": [
        {
          "output_type": "execute_result",
          "data": {
            "text/plain": [
              "[0.05387647617645916,\n",
              " 0.04928501256970781,\n",
              " 0.045830680267027746,\n",
              " 0.05030299398100647,\n",
              " 0.052393253476078316]"
            ]
          },
          "metadata": {},
          "execution_count": 32
        }
      ]
    },
    {
      "cell_type": "markdown",
      "source": [
        "## CHR_22"
      ],
      "metadata": {
        "id": "-XObzDewsmZ9"
      }
    },
    {
      "cell_type": "code",
      "source": [
        "prs_list_22 = []\n",
        "# Initialize VIPRS, passing it the GWADataLoader object\n",
        "v1 = vp.VIPRS(gdl_22_train_fold_1)\n",
        "# Invoke the .fit() method to obtain posterior estimates\n",
        "v1.fit()\n",
        "test_prs_1 = v1.pseudo_validate(validation_gdl = gdl_22_test_fold_1)\n",
        "prs_list_22.append(test_prs_1)\n",
        "\n",
        "v2 = vp.VIPRS(gdl_22_train_fold_2)\n",
        "v2.fit()\n",
        "test_prs_2 = v2.pseudo_validate(validation_gdl = gdl_22_test_fold_2)\n",
        "prs_list_22.append(test_prs_2)\n",
        "\n",
        "v3 = vp.VIPRS(gdl_22_train_fold_3)\n",
        "v3.fit()\n",
        "test_prs_3 = v3.pseudo_validate(validation_gdl = gdl_22_test_fold_3)\n",
        "prs_list_22.append(test_prs_3)\n",
        "\n",
        "v4 = vp.VIPRS(gdl_22_train_fold_4)\n",
        "v4.fit()\n",
        "test_prs_4 = v4.pseudo_validate(validation_gdl = gdl_22_test_fold_4)\n",
        "prs_list_22.append(test_prs_4)\n",
        "\n",
        "v5 = vp.VIPRS(gdl_22_train_fold_5)\n",
        "v5.fit()\n",
        "test_prs_5 = v5.pseudo_validate(validation_gdl = gdl_22_test_fold_5)\n",
        "prs_list_22.append(test_prs_5)"
      ],
      "metadata": {
        "colab": {
          "base_uri": "https://localhost:8080/"
        },
        "id": "fBGylP7Isl8E",
        "outputId": "37b584e5-1b1c-4510-b460-5805bf9c1620"
      },
      "execution_count": null,
      "outputs": [
        {
          "output_type": "stream",
          "name": "stdout",
          "text": [
            "> Initializing model parameters\n",
            "> Loading LD matrices into memory...\n",
            "> Performing model fit...\n",
            "> Using up to 1 threads.\n"
          ]
        },
        {
          "output_type": "stream",
          "name": "stderr",
          "text": [
            "  3%|▎         | 32/1000 [00:03<01:36, 10.06it/s]\n"
          ]
        },
        {
          "output_type": "stream",
          "name": "stdout",
          "text": [
            "Converged at iteration 33 || ELBO: -343447.668410\n",
            "> Final ELBO: -343447.668410\n",
            "> Estimated heritability: 0.004632\n",
            "> Estimated proportion of causal variants: 0.008943\n",
            "> Initializing model parameters\n",
            "> Loading LD matrices into memory...\n",
            "> Performing model fit...\n",
            "> Using up to 1 threads.\n"
          ]
        },
        {
          "output_type": "stream",
          "name": "stderr",
          "text": [
            "  8%|▊         | 85/1000 [00:10<01:50,  8.27it/s]\n"
          ]
        },
        {
          "output_type": "stream",
          "name": "stdout",
          "text": [
            "Converged at iteration 86 || ELBO: -343454.442247\n",
            "> Final ELBO: -343454.442247\n",
            "> Estimated heritability: 0.004560\n",
            "> Estimated proportion of causal variants: 0.010592\n",
            "> Initializing model parameters\n",
            "> Loading LD matrices into memory...\n",
            "> Performing model fit...\n",
            "> Using up to 1 threads.\n"
          ]
        },
        {
          "output_type": "stream",
          "name": "stderr",
          "text": [
            "  3%|▎         | 30/1000 [00:03<01:48,  8.93it/s]\n"
          ]
        },
        {
          "output_type": "stream",
          "name": "stdout",
          "text": [
            "Converged at iteration 31 || ELBO: -343462.782891\n",
            "> Final ELBO: -343462.782891\n",
            "> Estimated heritability: 0.004440\n",
            "> Estimated proportion of causal variants: 0.008967\n",
            "> Initializing model parameters\n",
            "> Loading LD matrices into memory...\n",
            "> Performing model fit...\n",
            "> Using up to 1 threads.\n"
          ]
        },
        {
          "output_type": "stream",
          "name": "stderr",
          "text": [
            " 14%|█▍        | 144/1000 [00:18<01:52,  7.63it/s]\n"
          ]
        },
        {
          "output_type": "stream",
          "name": "stdout",
          "text": [
            "Converged at iteration 145 || ELBO: -343425.396321\n",
            "> Final ELBO: -343425.396321\n",
            "> Estimated heritability: 0.004880\n",
            "> Estimated proportion of causal variants: 0.009118\n",
            "> Initializing model parameters\n",
            "> Loading LD matrices into memory...\n",
            "> Performing model fit...\n",
            "> Using up to 1 threads.\n"
          ]
        },
        {
          "output_type": "stream",
          "name": "stderr",
          "text": [
            " 14%|█▍        | 144/1000 [00:16<01:38,  8.70it/s]"
          ]
        },
        {
          "output_type": "stream",
          "name": "stdout",
          "text": [
            "Converged at iteration 145 || ELBO: -343452.620152\n",
            "> Final ELBO: -343452.620152\n",
            "> Estimated heritability: 0.004681\n",
            "> Estimated proportion of causal variants: 0.008756\n"
          ]
        },
        {
          "output_type": "stream",
          "name": "stderr",
          "text": [
            "\n"
          ]
        }
      ]
    },
    {
      "cell_type": "code",
      "source": [
        "prs_list_22"
      ],
      "metadata": {
        "colab": {
          "base_uri": "https://localhost:8080/"
        },
        "id": "HWLWj0ImstFL",
        "outputId": "ccf30822-040a-4a8d-e658-a65e470e0024"
      },
      "execution_count": null,
      "outputs": [
        {
          "output_type": "execute_result",
          "data": {
            "text/plain": [
              "[0.055597501566565094,\n",
              " 0.05662839494151994,\n",
              " 0.05675185787991545,\n",
              " 0.04973819994354065,\n",
              " 0.05500067191579865]"
            ]
          },
          "metadata": {},
          "execution_count": 21
        }
      ]
    },
    {
      "cell_type": "markdown",
      "source": [
        "# 2 Binary VIPRS"
      ],
      "metadata": {
        "id": "tUpZgVQSOKaA"
      }
    },
    {
      "cell_type": "code",
      "source": [
        "class Binary_VIPRS:\n",
        "  def __init__(self, dataset, CHR, A, eta = 0.01):\n",
        "      \"\"\"\n",
        "      :param dataset: magenpy dataset, magenpy.GWADataLoader.GWADataLoader.\n",
        "      :param CHR: chromosomes number, int.\n",
        "      :param A: the annotation matrix, pandas dataframe.\n",
        "      :param niter: number of iterations, int.\n",
        "      :param eta: the learning rate that is used to perform gradient ascent for the hyperparameter w, float.\n",
        "      \"\"\"\n",
        "      # Define all the data needed for calculations\n",
        "      self.LD = dataset.ld[CHR].to_csr_matrix().toarray() # P*P ndarray\n",
        "      self.beta_marginal = dataset.to_summary_statistics_table()[[\"CHR\", \"SNP\", \"BETA\"]] # P*3 pd.DataFrame\n",
        "      self.N = dataset.sample_size # number of individuals\n",
        "      self.A = A # 98 columns in total, the first two columns are CHR and SNP, the matrix is the last 96 columns\n",
        "      self.P = len(dataset.snps[CHR]) # number of snps\n",
        "      _, self.K = A.iloc[:, 2:98].shape # K = 96\n",
        "      self.eta = eta\n",
        "      self.SNP = dataset.snps[CHR] # get all the snps' names so that we could find the corresponded annotation a_j\n",
        "\n",
        "      # Initialize the variational parameters\n",
        "      self.mu_beta = np.full((self.P,), 0.0) # P*1\n",
        "      self.tau_beta = np.full((self.P,), 1.0) # P*1\n",
        "      self.gamma = np.full((self.P,), 0.01) # P*1\n",
        "\n",
        "      # Initialize the value of hyperparameters\n",
        "      np.random.seed(565)\n",
        "      self.w = np.random.normal(0, 0.001, size = (self.K,)) # K*1\n",
        "      self.tau_k = np.full((self.K,), 1.0/(0.01/self.K)) # K*1\n",
        "      self.tau_e = 1\n",
        "\n",
        "  def e_step(self):\n",
        "    \"\"\"\n",
        "    This function performs the E-step of EM algorithm\n",
        "    \"\"\"\n",
        "    N = self.N\n",
        "    tau_e = self.tau_e\n",
        "    tau_k = self.tau_k.copy()\n",
        "    tau_beta = self.tau_beta.copy()\n",
        "    mu_beta = self.mu_beta.copy()\n",
        "    gamma = self.gamma.copy()\n",
        "    beta_marginal = self.beta_marginal[[\"BETA\"]].to_numpy().flatten().copy()\n",
        "    SNP = self.SNP.copy()\n",
        "    A = self.A.copy()\n",
        "    LD = self.LD.copy()\n",
        "    w = self.w.copy()\n",
        "\n",
        "    sigmoid = lambda x: 1 / (1 + np.exp(-x))\n",
        "\n",
        "    # Loop through each SNP j\n",
        "    for j in range(self.P):\n",
        "\n",
        "      # Compute sum of tau_k where a_jk = 1\n",
        "      snp_name = SNP[j]\n",
        "      a_j = A[A[\"SNP\"] == snp_name].iloc[:,2:98].to_numpy().flatten()\n",
        "      sum_tau_k = sum(tau_k[k] for k in range(self.K) if a_j[k] == 1)\n",
        "\n",
        "      # Compute tau_beta_j\n",
        "      tau_beta_j = N * tau_e + sum_tau_k\n",
        "      tau_beta[j] = tau_beta_j\n",
        "\n",
        "      # Compute mu_beta_j\n",
        "      r_j = LD[j]\n",
        "      sum_i_neq_j = sum(gamma[i]*mu_beta[i]*r_j[i] for i in range(self.P) if i != j)\n",
        "      mu_beta_j = N * (tau_e / tau_beta_j) * (beta_marginal[j] - sum_i_neq_j)\n",
        "      #print(mu_beta_j)\n",
        "      mu_beta[j] = mu_beta_j\n",
        "      #print(mu_beta[j])\n",
        "\n",
        "      # Compute u_j and gamma_j\n",
        "      aw = np.matmul(a_j, w)\n",
        "      pi_j = sigmoid(aw)\n",
        "      if pi_j > 0.999999: # avoid 0 division\n",
        "        pi_j = 0.999999\n",
        "      u_j = np.log(pi_j / (1-pi_j)) + 0.5 * np.log(sum_tau_k / tau_beta_j) + (tau_beta_j / 2) * (mu_beta_j**2)\n",
        "      gamma_j = sigmoid(u_j)\n",
        "\n",
        "      if gamma_j < 0.000001: # Restrict gamma_j between 0.01 and 0.99\n",
        "        gamma_j = 0.000001\n",
        "      elif gamma_j > 0.999999:\n",
        "        gamma_j = 0.999999\n",
        "\n",
        "      gamma[j] = gamma_j\n",
        "\n",
        "    # Update to the public fields\n",
        "    self.mu_beta = mu_beta # P*1\n",
        "    self.tau_beta = tau_beta # P*1\n",
        "    self.gamma = gamma # P*1\n",
        "\n",
        "  def m_step(self):\n",
        "    \"\"\"\n",
        "    This function performs the M-step of EM algorithm\n",
        "    \"\"\"\n",
        "    tau_k = self.tau_k.copy()\n",
        "    w = self.w.copy()\n",
        "    annotation_name = self.A.columns.to_numpy()[2:98].copy()\n",
        "    self.annotation_name = annotation_name\n",
        "    A = self.A.copy()\n",
        "    SNP = self.SNP.copy()\n",
        "    mu_beta = self.mu_beta.copy()\n",
        "    tau_beta = self.tau_beta.copy()\n",
        "    gamma = self.gamma.copy()\n",
        "\n",
        "    sigmoid = lambda x: 1 / (1 + np.exp(-x))\n",
        "\n",
        "    # Update tau_k\n",
        "    for k in range(self.K):\n",
        "      annot = annotation_name[k]\n",
        "      snps = A[A[annot] == 1][\"SNP\"].to_numpy()\n",
        "      snp_ind = np.nonzero(np.in1d(SNP,snps))[0]\n",
        "      term1 = np.sum(gamma[snp_ind] * (mu_beta[snp_ind] * mu_beta[snp_ind] + 1/tau_beta[snp_ind]))\n",
        "      term2 = np.sum(gamma[snp_ind])\n",
        "      if term2 < 1e-6: # avoid zero division\n",
        "        tau_k[k] = 1e-6\n",
        "      else:\n",
        "        tau_k[k] = 1/(term1 / term2)\n",
        "\n",
        "    # Update w\n",
        "    A_annot = A[A[\"SNP\"].isin(SNP)].drop(['CHR','SNP'], axis = 1).to_numpy()\n",
        "    Aw = np.matmul(A_annot, w)\n",
        "    pi = sigmoid(Aw)\n",
        "    delta_w = np.matmul(A_annot.T, gamma-pi)\n",
        "    w = w - self.eta * delta_w\n",
        "\n",
        "    # Update to public fields\n",
        "    self.tau_k = tau_k\n",
        "    self.w = w\n",
        "\n",
        "  def pseudo_validate(self, test_set, CHR):\n",
        "    \"\"\"\n",
        "    This function is used to compute the R^2 statistics\n",
        "    in order to evaluate the performance of the model.\n",
        "\n",
        "    :param test_set: test set.\n",
        "    :param CHR: chromosomes number, int.\n",
        "    \"\"\"\n",
        "    mu_beta = self.mu_beta.copy()\n",
        "    gamma = self.gamma.copy()\n",
        "    SNP = self.SNP.copy()\n",
        "    beta_hat = gamma * mu_beta # posterior\n",
        "    self.beta_hat = beta_hat\n",
        "\n",
        "    SNP_test = test_set.to_summary_statistics_table()[[\"SNP\"]].to_numpy().flatten()\n",
        "    snp_ind = np.nonzero(np.in1d(SNP_test,SNP))[0]\n",
        "    beta_test = test_set.to_summary_statistics_table()[[\"BETA\"]].to_numpy().flatten()\n",
        "    beta_test = beta_test[snp_ind]\n",
        "\n",
        "    LD_test = test_set.ld[CHR].to_csr_matrix().toarray().copy()\n",
        "    LD_test = LD_test[snp_ind][:,snp_ind]\n",
        "\n",
        "    return (2 * np.matmul(beta_test.T, beta_hat) - np.matmul(beta_hat.T, np.matmul(LD_test, beta_hat)))\n",
        "\n",
        "\n",
        "  def fit(self, niter):\n",
        "    for i in tqdm(range(niter)):\n",
        "      self.e_step()\n",
        "      self.m_step()\n",
        "\n",
        "  def fit_evaluate_per_iter(self, niter, test_set, CHR):\n",
        "    r2_lst = []\n",
        "    for i in range(niter):\n",
        "      self.e_step()\n",
        "      self.m_step()\n",
        "      r2 = self.pseudo_validate(test_set, CHR)\n",
        "      print(\"iteration: \" + str(i+1) + \" R^2: \" + str(r2))\n",
        "      r2_lst.append(r2)\n",
        "    return r2_lst"
      ],
      "metadata": {
        "id": "KCqpyIEdT3H6"
      },
      "execution_count": null,
      "outputs": []
    },
    {
      "cell_type": "markdown",
      "source": [
        "# 3 Fit and evaluation"
      ],
      "metadata": {
        "id": "6xfydz69gGr1"
      }
    },
    {
      "cell_type": "markdown",
      "source": [
        "## CHR_21"
      ],
      "metadata": {
        "id": "TEHt45WGi7Ha"
      }
    },
    {
      "cell_type": "markdown",
      "source": [
        "### fold 1"
      ],
      "metadata": {
        "id": "nE0Th98353mn"
      }
    },
    {
      "cell_type": "code",
      "source": [
        "gdl_21_fold_1 = Binary_VIPRS(dataset = gdl_21_train_fold_1, CHR = 21, A = annotation_21, eta = 0.05)"
      ],
      "metadata": {
        "id": "syK_NiZr5hr5"
      },
      "execution_count": null,
      "outputs": []
    },
    {
      "cell_type": "code",
      "source": [
        "r2_21_fold_1 = gdl_21_fold_1.fit_evaluate_per_iter(niter = 5, test_set = gdl_21_test_fold_1, CHR = 21)"
      ],
      "metadata": {
        "colab": {
          "base_uri": "https://localhost:8080/"
        },
        "outputId": "c560d809-4d19-4439-e844-d010fe71783f",
        "id": "ns-3OrWQ5kkS"
      },
      "execution_count": null,
      "outputs": [
        {
          "output_type": "stream",
          "name": "stdout",
          "text": [
            "iteration: 1 R^2: -0.028290177910363687\n",
            "iteration: 2 R^2: -0.0036474104026444007\n",
            "iteration: 3 R^2: 0.005427640096552501\n",
            "iteration: 4 R^2: 0.0022709837747405394\n",
            "iteration: 5 R^2: 0.00034039629962561715\n"
          ]
        }
      ]
    },
    {
      "cell_type": "markdown",
      "source": [
        "### fold 2"
      ],
      "metadata": {
        "id": "3Y7n7Ia059M1"
      }
    },
    {
      "cell_type": "code",
      "source": [
        "gdl_21_fold_2 = Binary_VIPRS(dataset = gdl_21_train_fold_2, CHR = 21, A = annotation_21, eta = 0.05)\n",
        "r2_21_fold_2 = gdl_21_fold_2.fit_evaluate_per_iter(niter = 3, test_set = gdl_21_test_fold_2, CHR = 21)"
      ],
      "metadata": {
        "colab": {
          "base_uri": "https://localhost:8080/"
        },
        "id": "zLDycMNNluuf",
        "outputId": "e475afdc-1abb-4ccd-9443-116de147a9c8"
      },
      "execution_count": null,
      "outputs": [
        {
          "output_type": "stream",
          "name": "stdout",
          "text": [
            "iteration: 1 R^2: -0.01655874107426604\n",
            "iteration: 2 R^2: 0.000598853526765003\n",
            "iteration: 3 R^2: 0.005409922917999076\n"
          ]
        }
      ]
    },
    {
      "cell_type": "markdown",
      "source": [
        "### fold 3"
      ],
      "metadata": {
        "id": "HNoxyVCZ5_dh"
      }
    },
    {
      "cell_type": "code",
      "source": [
        "gdl_21_fold_3 = Binary_VIPRS(dataset = gdl_21_train_fold_3, CHR = 21, A = annotation_21, eta = 0.05)\n",
        "r2_21_fold_3 = gdl_21_fold_3.fit_evaluate_per_iter(niter = 3, test_set = gdl_21_test_fold_3, CHR = 21)"
      ],
      "metadata": {
        "colab": {
          "base_uri": "https://localhost:8080/"
        },
        "id": "IZ1qH81jkgKc",
        "outputId": "bbc9ed6d-742a-489a-ef2f-b97870809a63"
      },
      "execution_count": null,
      "outputs": [
        {
          "output_type": "stream",
          "name": "stdout",
          "text": [
            "iteration: 1 R^2: -0.022312557064045037\n",
            "iteration: 2 R^2: -0.0013379768654491753\n",
            "iteration: 3 R^2: 0.006591295009155657\n"
          ]
        }
      ]
    },
    {
      "cell_type": "markdown",
      "source": [
        "### fold 4"
      ],
      "metadata": {
        "id": "H82GbcFD6AtL"
      }
    },
    {
      "cell_type": "code",
      "source": [
        "gdl_21_fold_4 = Binary_VIPRS(dataset = gdl_21_train_fold_4, CHR = 21, A = annotation_21, eta = 0.05)\n",
        "r2_21_fold_4 = gdl_21_fold_4.fit_evaluate_per_iter(niter = 3, test_set = gdl_21_test_fold_4, CHR = 21)"
      ],
      "metadata": {
        "colab": {
          "base_uri": "https://localhost:8080/"
        },
        "id": "0d7J8zsokgDc",
        "outputId": "4421d8b1-201c-4408-abff-d704ac775669"
      },
      "execution_count": null,
      "outputs": [
        {
          "output_type": "stream",
          "name": "stdout",
          "text": [
            "iteration: 1 R^2: -0.03674729739671226\n",
            "iteration: 2 R^2: -0.00741919895250618\n",
            "iteration: 3 R^2: 0.004035857542031033\n"
          ]
        }
      ]
    },
    {
      "cell_type": "markdown",
      "source": [
        "### fold 5"
      ],
      "metadata": {
        "id": "OF7gzqju6BxB"
      }
    },
    {
      "cell_type": "code",
      "source": [
        "gdl_21_fold_5 = Binary_VIPRS(dataset = gdl_21_train_fold_5, CHR = 21, A = annotation_21, eta = 0.05)\n",
        "r2_21_fold_5 = gdl_21_fold_5.fit_evaluate_per_iter(niter = 3, test_set = gdl_21_test_fold_5, CHR = 21)"
      ],
      "metadata": {
        "colab": {
          "base_uri": "https://localhost:8080/"
        },
        "id": "n2MBY5xGkg0X",
        "outputId": "10b6d306-2930-46f0-a658-1fed7bd83dce"
      },
      "execution_count": null,
      "outputs": [
        {
          "output_type": "stream",
          "name": "stdout",
          "text": [
            "iteration: 1 R^2: -0.023180899621359607\n",
            "iteration: 2 R^2: -0.005886718511811606\n",
            "iteration: 3 R^2: 0.002009611899971811\n"
          ]
        }
      ]
    },
    {
      "cell_type": "markdown",
      "source": [
        "### Use fold 5 to predict other folds"
      ],
      "metadata": {
        "id": "qtVgIRKQ5wGg"
      }
    },
    {
      "cell_type": "code",
      "source": [
        "#use train_5 to predict other test sets\n",
        "gdl_21_fold_5.pseudo_validate(gdl_21_test_fold_1, CHR = 21)"
      ],
      "metadata": {
        "colab": {
          "base_uri": "https://localhost:8080/"
        },
        "id": "rDUV1jrFu3FO",
        "outputId": "bf2a52ca-9f52-42f9-a91b-1a952aa29374"
      },
      "execution_count": null,
      "outputs": [
        {
          "output_type": "execute_result",
          "data": {
            "text/plain": [
              "0.03173167057012635"
            ]
          },
          "metadata": {},
          "execution_count": 48
        }
      ]
    },
    {
      "cell_type": "code",
      "source": [
        "gdl_21_fold_5.pseudo_validate(gdl_21_test_fold_2, CHR = 21)"
      ],
      "metadata": {
        "colab": {
          "base_uri": "https://localhost:8080/"
        },
        "id": "oadBKRA1vDoF",
        "outputId": "98a03e2d-7e88-44e3-c453-b6d5dc22f792"
      },
      "execution_count": null,
      "outputs": [
        {
          "output_type": "execute_result",
          "data": {
            "text/plain": [
              "0.03286556597529352"
            ]
          },
          "metadata": {},
          "execution_count": 49
        }
      ]
    },
    {
      "cell_type": "code",
      "source": [
        "gdl_21_fold_5.pseudo_validate(gdl_21_test_fold_3, CHR = 21)"
      ],
      "metadata": {
        "colab": {
          "base_uri": "https://localhost:8080/"
        },
        "id": "_50CROTnvFic",
        "outputId": "9b55eb0d-a5e3-4dcf-82e9-e499d789c158"
      },
      "execution_count": null,
      "outputs": [
        {
          "output_type": "execute_result",
          "data": {
            "text/plain": [
              "0.03045829503211559"
            ]
          },
          "metadata": {},
          "execution_count": 50
        }
      ]
    },
    {
      "cell_type": "code",
      "source": [
        "gdl_21_fold_5.pseudo_validate(gdl_21_test_fold_4, CHR = 21)"
      ],
      "metadata": {
        "colab": {
          "base_uri": "https://localhost:8080/"
        },
        "id": "JWLbs2lsvGdT",
        "outputId": "28d67371-00ea-45b5-9df1-6d712c155881"
      },
      "execution_count": null,
      "outputs": [
        {
          "output_type": "execute_result",
          "data": {
            "text/plain": [
              "0.03002631010236178"
            ]
          },
          "metadata": {},
          "execution_count": 51
        }
      ]
    },
    {
      "cell_type": "markdown",
      "source": [
        "## CHR_22"
      ],
      "metadata": {
        "id": "k6px5Hzvi43k"
      }
    },
    {
      "cell_type": "markdown",
      "source": [
        "### fold 1"
      ],
      "metadata": {
        "id": "4ZbWec1f21T3"
      }
    },
    {
      "cell_type": "code",
      "source": [
        "gdl_22_fold_1 = Binary_VIPRS(dataset = gdl_22_train_fold_1, CHR = 22, A = annotation_22, eta = 0.05)"
      ],
      "metadata": {
        "id": "j3TwS1qpFVFc"
      },
      "execution_count": null,
      "outputs": []
    },
    {
      "cell_type": "code",
      "source": [
        "r2_22_fold_1 = gdl_22_fold_1.fit_evaluate_per_iter(niter = 5, test_set = gdl_22_test_fold_1, CHR = 22)"
      ],
      "metadata": {
        "id": "bEn8uTuIBc2x",
        "colab": {
          "base_uri": "https://localhost:8080/"
        },
        "outputId": "0ff04675-576a-4c8f-caf1-232d310f9e7d"
      },
      "execution_count": null,
      "outputs": [
        {
          "output_type": "stream",
          "name": "stdout",
          "text": [
            "iteration: 1 R^2: -0.02012165225203623\n",
            "iteration: 2 R^2: 0.004565595977848495\n",
            "iteration: 3 R^2: 0.007895694482472484\n",
            "iteration: 4 R^2: 0.0021400811296604367\n",
            "iteration: 5 R^2: 0.00024310893484574727\n"
          ]
        }
      ]
    },
    {
      "cell_type": "markdown",
      "source": [
        "### fold 2"
      ],
      "metadata": {
        "id": "bq1PdN08230R"
      }
    },
    {
      "cell_type": "code",
      "source": [
        "gdl_22_fold_2 = Binary_VIPRS(dataset = gdl_22_train_fold_2, CHR = 22, A = annotation_22, eta = 0.05)"
      ],
      "metadata": {
        "id": "YiMcNbJj2fpb"
      },
      "execution_count": null,
      "outputs": []
    },
    {
      "cell_type": "code",
      "source": [
        "r2_22_fold_2 = gdl_22_fold_2.fit_evaluate_per_iter(niter = 3, test_set = gdl_22_test_fold_2, CHR = 22)"
      ],
      "metadata": {
        "colab": {
          "base_uri": "https://localhost:8080/"
        },
        "id": "lJESYv3h2kdQ",
        "outputId": "a07debc9-817d-426f-8147-69bb5a68b661"
      },
      "execution_count": null,
      "outputs": [
        {
          "output_type": "stream",
          "name": "stdout",
          "text": [
            "iteration: 1 R^2: -0.007615844993784468\n",
            "iteration: 2 R^2: 0.014708237139216991\n",
            "iteration: 3 R^2: 0.00899049573400685\n"
          ]
        }
      ]
    },
    {
      "cell_type": "markdown",
      "source": [
        "### fold 3"
      ],
      "metadata": {
        "id": "LWc49ZZlHiOa"
      }
    },
    {
      "cell_type": "code",
      "source": [
        "gdl_22_fold_3 = Binary_VIPRS(dataset = gdl_22_train_fold_3, CHR = 22, A = annotation_22, eta = 0.05)"
      ],
      "metadata": {
        "id": "i0zWV5ooHk2o"
      },
      "execution_count": null,
      "outputs": []
    },
    {
      "cell_type": "code",
      "source": [
        "r2_22_fold_3 = gdl_22_fold_3.fit_evaluate_per_iter(niter = 3, test_set = gdl_22_test_fold_3, CHR = 22)"
      ],
      "metadata": {
        "colab": {
          "base_uri": "https://localhost:8080/"
        },
        "id": "gpMTIUskHs06",
        "outputId": "05c611ff-782d-4cc3-dbcb-985face90d43"
      },
      "execution_count": null,
      "outputs": [
        {
          "output_type": "stream",
          "name": "stdout",
          "text": [
            "iteration: 1 R^2: 0.0031717454474780166\n",
            "iteration: 2 R^2: 0.020410001625804856\n",
            "iteration: 3 R^2: 0.010000706136510624\n"
          ]
        }
      ]
    },
    {
      "cell_type": "markdown",
      "source": [
        "### fold 4"
      ],
      "metadata": {
        "id": "G-cr7wTlU4Po"
      }
    },
    {
      "cell_type": "code",
      "source": [
        "gdl_22_fold_4 = Binary_VIPRS(dataset = gdl_22_train_fold_4, CHR = 22, A = annotation_22, eta = 0.05)"
      ],
      "metadata": {
        "id": "6LyfD4ivU6ID"
      },
      "execution_count": null,
      "outputs": []
    },
    {
      "cell_type": "code",
      "source": [
        "r2_22_fold_4 = gdl_22_fold_4.fit_evaluate_per_iter(niter = 3, test_set = gdl_22_test_fold_4, CHR = 22)"
      ],
      "metadata": {
        "colab": {
          "base_uri": "https://localhost:8080/"
        },
        "id": "U_c9li5cU-w4",
        "outputId": "5b226672-ce50-4afa-f5ef-079816da2467"
      },
      "execution_count": null,
      "outputs": [
        {
          "output_type": "stream",
          "name": "stdout",
          "text": [
            "iteration: 1 R^2: -0.023984876155720508\n",
            "iteration: 2 R^2: 0.001652297960708829\n",
            "iteration: 3 R^2: 0.007091791567628878\n"
          ]
        }
      ]
    },
    {
      "cell_type": "markdown",
      "source": [
        "### fold 5"
      ],
      "metadata": {
        "id": "lbUm4tMudbMM"
      }
    },
    {
      "cell_type": "code",
      "source": [
        "gdl_22_fold_5 = Binary_VIPRS(dataset = gdl_22_train_fold_5, CHR = 22, A = annotation_22, eta = 0.05)"
      ],
      "metadata": {
        "id": "E-KyF2fIdd7p"
      },
      "execution_count": null,
      "outputs": []
    },
    {
      "cell_type": "code",
      "source": [
        "r2_22_fold_5 = gdl_22_fold_5.fit_evaluate_per_iter(niter = 3, test_set = gdl_22_test_fold_5, CHR = 22)"
      ],
      "metadata": {
        "colab": {
          "base_uri": "https://localhost:8080/"
        },
        "id": "WDWrywz7dn6-",
        "outputId": "ec77bf4c-dcb5-4af7-f003-df6c5e4867cf"
      },
      "execution_count": null,
      "outputs": [
        {
          "output_type": "stream",
          "name": "stdout",
          "text": [
            "iteration: 1 R^2: -0.0020043995222445155\n",
            "iteration: 2 R^2: 0.012976876890607232\n",
            "iteration: 3 R^2: 0.010883550578657942\n"
          ]
        }
      ]
    },
    {
      "cell_type": "markdown",
      "source": [
        "### Use fold 5 to predict other folds"
      ],
      "metadata": {
        "id": "dGL8mDlbrld0"
      }
    },
    {
      "cell_type": "code",
      "source": [
        "gdl_22_fold_5.pseudo_validate(gdl_22_test_fold_1, CHR = 22)"
      ],
      "metadata": {
        "colab": {
          "base_uri": "https://localhost:8080/"
        },
        "id": "0_XKY-MZrqP4",
        "outputId": "a5098d7d-3499-40ca-f029-a550c253d42f"
      },
      "execution_count": null,
      "outputs": [
        {
          "output_type": "execute_result",
          "data": {
            "text/plain": [
              "0.02695693503256915"
            ]
          },
          "metadata": {},
          "execution_count": 16
        }
      ]
    },
    {
      "cell_type": "code",
      "source": [
        "gdl_22_fold_5.pseudo_validate(gdl_22_test_fold_2, CHR = 22)"
      ],
      "metadata": {
        "colab": {
          "base_uri": "https://localhost:8080/"
        },
        "id": "g_EJy-3-sAL8",
        "outputId": "fe8a4161-f1bb-47b5-dd59-883162e4bda6"
      },
      "execution_count": null,
      "outputs": [
        {
          "output_type": "execute_result",
          "data": {
            "text/plain": [
              "0.029093638198121538"
            ]
          },
          "metadata": {},
          "execution_count": 17
        }
      ]
    },
    {
      "cell_type": "code",
      "source": [
        "gdl_22_fold_5.pseudo_validate(gdl_22_test_fold_3, CHR = 22)"
      ],
      "metadata": {
        "colab": {
          "base_uri": "https://localhost:8080/"
        },
        "id": "Njw7erPKsDZO",
        "outputId": "c0e5391e-39b8-4b1d-c033-7489438bd8b3"
      },
      "execution_count": null,
      "outputs": [
        {
          "output_type": "execute_result",
          "data": {
            "text/plain": [
              "0.029985247846254733"
            ]
          },
          "metadata": {},
          "execution_count": 18
        }
      ]
    },
    {
      "cell_type": "code",
      "source": [
        "gdl_22_fold_5.pseudo_validate(gdl_22_test_fold_4, CHR = 22)"
      ],
      "metadata": {
        "colab": {
          "base_uri": "https://localhost:8080/"
        },
        "id": "XifkNbD0sGQC",
        "outputId": "4c2771b3-1a00-47e9-9371-aaf149983218"
      },
      "execution_count": null,
      "outputs": [
        {
          "output_type": "execute_result",
          "data": {
            "text/plain": [
              "0.02793719269149507"
            ]
          },
          "metadata": {},
          "execution_count": 19
        }
      ]
    },
    {
      "cell_type": "markdown",
      "source": [
        "# 4 Results Summary"
      ],
      "metadata": {
        "id": "F8F0XIeF6Kmo"
      }
    },
    {
      "cell_type": "markdown",
      "source": [
        "## CHR_21"
      ],
      "metadata": {
        "id": "dVYg4Q9b649B"
      }
    },
    {
      "cell_type": "code",
      "source": [
        "#VIPRS chr 21\n",
        "x_axis = ['fold 1','fold 2','fold 3','fold 4','fold 5']\n",
        "plt.bar(x_axis, prs_list_21)\n",
        "plt.title('5-fold cross validation of chr 21_VIPRS')\n",
        "plt.ylabel('R squared')\n",
        "plt.show()"
      ],
      "metadata": {
        "colab": {
          "base_uri": "https://localhost:8080/",
          "height": 452
        },
        "id": "4czkdKAfEhPZ",
        "outputId": "d28c27d0-1925-4796-a94a-0da05c4698f0"
      },
      "execution_count": null,
      "outputs": [
        {
          "output_type": "display_data",
          "data": {
            "text/plain": [
              "<Figure size 640x480 with 1 Axes>"
            ],
            "image/png": "[encoded data removed]"
          },
          "metadata": {}
        }
      ]
    },
    {
      "cell_type": "code",
      "source": [
        "#Binary chr 21\n",
        "r_21 =[0.005427640096552501,0.005409922917999076,0.006591295009155657,0.004035857542031033,0.002009611899971811]\n",
        "x_axis = ['fold 1','fold 2','fold 3','fold 4','fold 5']\n",
        "plt.bar( x_axis,r_21)\n",
        "plt.title('5-fold cross validation of chr 21_Binary VIPRS')\n",
        "plt.ylabel('R squared')\n",
        "plt.show()"
      ],
      "metadata": {
        "colab": {
          "base_uri": "https://localhost:8080/",
          "height": 452
        },
        "id": "WdqXMgyDDnWu",
        "outputId": "081a1b32-cc42-4ea4-a9c9-c4a0457e3b49"
      },
      "execution_count": null,
      "outputs": [
        {
          "output_type": "display_data",
          "data": {
            "text/plain": [
              "<Figure size 640x480 with 1 Axes>"
            ],
            "image/png": "[encoded data removed]"
          },
          "metadata": {}
        }
      ]
    },
    {
      "cell_type": "code",
      "source": [
        "#compare\n",
        "x_labels = ['fold 1', 'fold 2', 'fold 3', 'fold 4', 'fold 5']\n",
        "\n",
        "# set the width of the bars\n",
        "bar_width = 0.35\n",
        "# create the bar plot\n",
        "fig, ax = plt.subplots()\n",
        "bar1 = ax.bar(np.arange(len(prs_list_21)), prs_list_21, bar_width, label='VIPRS')\n",
        "bar2 = ax.bar(np.arange(len(r_21))+bar_width, r_21, bar_width, label='Binary VIPRS')\n",
        "# add x-axis labels\n",
        "ax.set_xticks(np.arange(len(x_labels)))\n",
        "ax.set_xticklabels(x_labels)\n",
        "\n",
        "# add legend\n",
        "ax.legend()\n",
        "\n",
        "# show the plot\n",
        "plt.show()\n"
      ],
      "metadata": {
        "colab": {
          "base_uri": "https://localhost:8080/",
          "height": 430
        },
        "id": "oR00UxY9MiYl",
        "outputId": "802e7d48-4719-4f8e-a1f4-d5be3a0814b3"
      },
      "execution_count": null,
      "outputs": [
        {
          "output_type": "display_data",
          "data": {
            "text/plain": [
              "<Figure size 640x480 with 1 Axes>"
            ],
            "image/png": "[encoded data removed]"
          },
          "metadata": {}
        }
      ]
    },
    {
      "cell_type": "code",
      "source": [
        "x_labels = ['fold 1', 'fold 2', 'fold 3', 'fold 4', 'fold 5']\n",
        "\n",
        "# set the width of the bars\n",
        "bar_width = 0.25\n",
        "\n",
        "r_21_5_others=[0.03173167057012635,0.03286556597529352,0.03045829503211559,0.03002631010236178,0.002009611899971811]\n",
        "# create the bar plot\n",
        "fig, ax = plt.subplots()\n",
        "bar1 = ax.bar(np.arange(len(prs_list_21)), prs_list_21, bar_width, label='VIPRS')\n",
        "bar2 = ax.bar(np.arange(len(r_21))+bar_width, r_21, bar_width, label='Binary VIPRS')\n",
        "bar3 = ax.bar(np.arange(len(r_21_5_others))+bar_width*2, r_21_5_others, bar_width, label='Not matched prediction')\n",
        "\n",
        "ax.set_xticks(np.arange(len(x_labels)))\n",
        "ax.set_xticklabels(x_labels)\n",
        "ax.set_title(\"R square of Chromosome 21 with different methods\")\n",
        "\n",
        "ax.legend()\n",
        "\n",
        "# show the plot\n",
        "plt.show()\n"
      ],
      "metadata": {
        "colab": {
          "base_uri": "https://localhost:8080/",
          "height": 452
        },
        "outputId": "340ffc52-196d-4f90-b497-03ccefc808a4",
        "id": "OeYf_Ug2-Iob"
      },
      "execution_count": null,
      "outputs": [
        {
          "output_type": "display_data",
          "data": {
            "text/plain": [
              "<Figure size 640x480 with 1 Axes>"
            ],
            "image/png": "[encoded data removed]"
          },
          "metadata": {}
        }
      ]
    },
    {
      "cell_type": "markdown",
      "source": [
        "## CHR_22"
      ],
      "metadata": {
        "id": "JaNYUzna7QDF"
      }
    },
    {
      "cell_type": "code",
      "source": [
        "#VIPRS chr 22\n",
        "prs_list_22= [0.055597501566565094,0.05662839494151994,0.05675185787991545,0.04973819994354065,0.05500067191579865]\n",
        "\n",
        "x_axis = ['fold 1','fold 2','fold 3','fold 4','fold 5']\n",
        "plt.bar(x_axis, prs_list_22)\n",
        "plt.title('5-fold cross validation of chr 22_VIPRS')\n",
        "plt.ylabel('R squared')\n",
        "plt.show()"
      ],
      "metadata": {
        "colab": {
          "base_uri": "https://localhost:8080/",
          "height": 452
        },
        "id": "8wu9Wt0a7R5T",
        "outputId": "830d826f-967c-4f24-b0e5-2130a9c52d2b"
      },
      "execution_count": null,
      "outputs": [
        {
          "output_type": "display_data",
          "data": {
            "text/plain": [
              "<Figure size 640x480 with 1 Axes>"
            ],
            "image/png": "[encoded data removed]"
          },
          "metadata": {}
        }
      ]
    },
    {
      "cell_type": "code",
      "source": [
        "#Binary chr 22\n",
        "r_22 =[0.007895694482472484,0.014708237139216991,0.020410001625804856,0.007091791567628878,0.012976876890607232]\n",
        "x_axis = ['fold 1','fold 2','fold 3','fold 4','fold 5']\n",
        "plt.bar( x_axis,r_22)\n",
        "plt.title('5-fold cross validation of chr 22_Binary VIPRS')\n",
        "plt.ylabel('R squared')\n",
        "plt.show()"
      ],
      "metadata": {
        "colab": {
          "base_uri": "https://localhost:8080/",
          "height": 452
        },
        "id": "DFtYGuim7ZHB",
        "outputId": "53ef825f-d8d9-4415-edad-ddcafa1d859e"
      },
      "execution_count": null,
      "outputs": [
        {
          "output_type": "display_data",
          "data": {
            "text/plain": [
              "<Figure size 640x480 with 1 Axes>"
            ],
            "image/png": "[encoded data removed]"
          },
          "metadata": {}
        }
      ]
    },
    {
      "cell_type": "code",
      "source": [
        "#compare\n",
        "x_labels = ['fold 1', 'fold 2', 'fold 3', 'fold 4', 'fold 5']\n",
        "\n",
        "# set the width of the bars\n",
        "bar_width = 0.35\n",
        "# create the bar plot\n",
        "fig, ax = plt.subplots()\n",
        "bar1 = ax.bar(np.arange(len(prs_list_22)), prs_list_22, bar_width, label='VIPRS')\n",
        "bar2 = ax.bar(np.arange(len(r_22))+bar_width, r_22, bar_width, label='Binary VIPRS')\n",
        "# add x-axis labels\n",
        "ax.set_xticks(np.arange(len(x_labels)))\n",
        "ax.set_xticklabels(x_labels)\n",
        "\n",
        "# add legend\n",
        "ax.legend()\n",
        "\n",
        "# show the plot\n",
        "plt.show()"
      ],
      "metadata": {
        "colab": {
          "base_uri": "https://localhost:8080/",
          "height": 430
        },
        "id": "Gwd01kGX9oty",
        "outputId": "4ffc4bb0-4d23-4cb3-859c-a876c6404c63"
      },
      "execution_count": null,
      "outputs": [
        {
          "output_type": "display_data",
          "data": {
            "text/plain": [
              "<Figure size 640x480 with 1 Axes>"
            ],
            "image/png": "[encoded data removed]"
          },
          "metadata": {}
        }
      ]
    },
    {
      "cell_type": "code",
      "source": [
        "x_labels = ['fold 1', 'fold 2', 'fold 3', 'fold 4', 'fold 5']\n",
        "\n",
        "# set the width of the bars\n",
        "bar_width = 0.25\n",
        "r_22_5_others=[0.02695693503256915,0.029093638198121538,0.029985247846254733,0.02793719269149507,0.012976876890607232]\n",
        "# create the bar plot\n",
        "fig, ax = plt.subplots()\n",
        "bar1 = ax.bar(np.arange(len(prs_list_22)), prs_list_22, bar_width, label='VIPRS')\n",
        "bar2 = ax.bar(np.arange(len(r_22))+bar_width, r_22, bar_width, label='Binary VIPRS')\n",
        "bar3 = ax.bar(np.arange(len(r_22_5_others))+bar_width*2, r_22_5_others, bar_width, label='Not matched prediction')\n",
        "\n",
        "ax.set_xticks(np.arange(len(x_labels)))\n",
        "ax.set_xticklabels(x_labels)\n",
        "\n",
        "ax.legend()\n",
        "ax.set_title(\"R square of Chromosome 22 with different methods\")\n",
        "\n",
        "# show the plot\n",
        "plt.show()"
      ],
      "metadata": {
        "colab": {
          "base_uri": "https://localhost:8080/",
          "height": 452
        },
        "id": "5E68HHAC7wsn",
        "outputId": "e3dec905-8cd1-498e-eea3-7cebfa8c8e46"
      },
      "execution_count": null,
      "outputs": [
        {
          "output_type": "display_data",
          "data": {
            "text/plain": [
              "<Figure size 640x480 with 1 Axes>"
            ],
            "image/png": "[encoded data removed]"
          },
          "metadata": {}
        }
      ]
    }
  ]
}